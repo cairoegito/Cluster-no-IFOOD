{
  "nbformat": 4,
  "nbformat_minor": 0,
  "metadata": {
    "colab": {
      "provenance": [],
      "include_colab_link": true
    },
    "kernelspec": {
      "name": "python3",
      "display_name": "Python 3"
    },
    "language_info": {
      "name": "python"
    }
  },
  "cells": [
    {
      "cell_type": "markdown",
      "metadata": {
        "id": "view-in-github",
        "colab_type": "text"
      },
      "source": [
        "<a href=\"https://colab.research.google.com/github/cairoegito/Cluster-no-IFOOD/blob/main/Desafio_IFOOD.ipynb\" target=\"_parent\"><img src=\"https://colab.research.google.com/assets/colab-badge.svg\" alt=\"Open In Colab\"/></a>"
      ]
    },
    {
      "cell_type": "markdown",
      "source": [
        "**1- OBJETIVO DE NEGÓCIO**\n",
        "\n",
        "Entender melhor a base de dados e extrair informações sobre os clientes do IFOOD, como eles se comportam, como eles são impactados e o que os influenciam."
      ],
      "metadata": {
        "id": "yjmQdOx6h83q"
      }
    },
    {
      "cell_type": "markdown",
      "source": [
        "### **1 - Limpeza de dados e tratamentos necessários**"
      ],
      "metadata": {
        "id": "lg4JNkSi0hgv"
      }
    },
    {
      "cell_type": "code",
      "source": [
        "#Importando Bibliotecas de Análise exploratória de dados\n",
        "import pandas as pd\n",
        "import numpy as np\n",
        "import seaborn as sns \n",
        "import matplotlib.pyplot as plt\n",
        "from datetime import date\n",
        "import warnings\n",
        "warnings.filterwarnings('ignore')\n",
        "from pandas.api.types import is_string_dtype, is_numeric_dtype\n",
        "import scipy.stats as stats\n",
        "import folium as flm\n",
        "\n",
        "#Feature Engineer\n",
        "from sklearn.preprocessing import StandardScaler\n",
        "from sklearn.decomposition import PCA\n",
        "\n",
        "#Machine Learning\n",
        "from sklearn.cluster import KMeans\n",
        "import plotly.express as px\n",
        "import scipy.cluster.hierarchy as sch\n",
        "from sklearn.cluster import AgglomerativeClustering\n",
        "from sklearn.metrics import silhouette_score\n"
      ],
      "metadata": {
        "id": "EWXA-6nOiMhw"
      },
      "execution_count": 4,
      "outputs": []
    },
    {
      "cell_type": "code",
      "source": [
        "from google.colab import drive\n",
        "drive.mount('/content/drive')"
      ],
      "metadata": {
        "colab": {
          "base_uri": "https://localhost:8080/"
        },
        "id": "WE55wH23inQF",
        "outputId": "4c1e3658-6f9b-4cda-dc36-387a05da7bac"
      },
      "execution_count": 1,
      "outputs": [
        {
          "output_type": "stream",
          "name": "stdout",
          "text": [
            "Mounted at /content/drive\n"
          ]
        }
      ]
    },
    {
      "cell_type": "code",
      "source": [
        "#Importando datasets\n",
        "df_base = pd.read_excel(\"/content/drive/MyDrive/Desafio IFOOD/Documentação Base - Clustering.xlsx\")\n",
        "df_marketing = pd.read_csv(\"/content/drive/MyDrive/Desafio IFOOD/Marketing (3).xls\", sep=\";\")\n",
        "df_orders = pd.read_csv(\"/content/drive/MyDrive/Orders (1).xls\", sep=\";\")\n",
        "df_sessions = pd.read_csv(\"/content/drive/MyDrive/Desafio IFOOD/sessions.xls\", sep=\";\")\n",
        "\n"
      ],
      "metadata": {
        "id": "kIoiKGWyjir9"
      },
      "execution_count": 4,
      "outputs": []
    },
    {
      "cell_type": "code",
      "source": [
        "#Visualizando datasets\n",
        "df_marketing.head()"
      ],
      "metadata": {
        "id": "jO-D3_VBmaTN",
        "outputId": "350422ab-989b-40a7-a79d-3d7bc9b89b96",
        "colab": {
          "base_uri": "https://localhost:8080/",
          "height": 206
        }
      },
      "execution_count": 4,
      "outputs": [
        {
          "output_type": "execute_result",
          "data": {
            "text/plain": [
              "                             account_id registration_date ifood_status  \\\n",
              "0  7c0450e7-a806-4208-8449-e4269a27e6b5        2020-02-02     Inactive   \n",
              "1  16d0afba-00b8-427a-ba1f-2e397a9fbb54        2016-05-17        Churn   \n",
              "2  61c051ee-d37c-45c6-8c22-c236db3b62b7        2018-09-02       Active   \n",
              "3  82e48692-e4fa-494e-b03e-6815a819b7b1        2017-11-10  Reactivated   \n",
              "4  382af025-14c8-4ba9-b62f-deddd6f25789        2019-08-05     Inactive   \n",
              "\n",
              "  ifood_status_last_month  total_order_count first_order_date  \n",
              "0                Inactive                  8       2020-02-28  \n",
              "1                  Active                457       2017-03-19  \n",
              "2                  Active                206       2018-09-02  \n",
              "3                   Churn                 47       2018-05-01  \n",
              "4                Inactive                 66       2019-08-12  "
            ],
            "text/html": [
              "\n",
              "  <div id=\"df-faa45a2c-2403-4fb1-a7ac-4b08686d0fe6\">\n",
              "    <div class=\"colab-df-container\">\n",
              "      <div>\n",
              "<style scoped>\n",
              "    .dataframe tbody tr th:only-of-type {\n",
              "        vertical-align: middle;\n",
              "    }\n",
              "\n",
              "    .dataframe tbody tr th {\n",
              "        vertical-align: top;\n",
              "    }\n",
              "\n",
              "    .dataframe thead th {\n",
              "        text-align: right;\n",
              "    }\n",
              "</style>\n",
              "<table border=\"1\" class=\"dataframe\">\n",
              "  <thead>\n",
              "    <tr style=\"text-align: right;\">\n",
              "      <th></th>\n",
              "      <th>account_id</th>\n",
              "      <th>registration_date</th>\n",
              "      <th>ifood_status</th>\n",
              "      <th>ifood_status_last_month</th>\n",
              "      <th>total_order_count</th>\n",
              "      <th>first_order_date</th>\n",
              "    </tr>\n",
              "  </thead>\n",
              "  <tbody>\n",
              "    <tr>\n",
              "      <th>0</th>\n",
              "      <td>7c0450e7-a806-4208-8449-e4269a27e6b5</td>\n",
              "      <td>2020-02-02</td>\n",
              "      <td>Inactive</td>\n",
              "      <td>Inactive</td>\n",
              "      <td>8</td>\n",
              "      <td>2020-02-28</td>\n",
              "    </tr>\n",
              "    <tr>\n",
              "      <th>1</th>\n",
              "      <td>16d0afba-00b8-427a-ba1f-2e397a9fbb54</td>\n",
              "      <td>2016-05-17</td>\n",
              "      <td>Churn</td>\n",
              "      <td>Active</td>\n",
              "      <td>457</td>\n",
              "      <td>2017-03-19</td>\n",
              "    </tr>\n",
              "    <tr>\n",
              "      <th>2</th>\n",
              "      <td>61c051ee-d37c-45c6-8c22-c236db3b62b7</td>\n",
              "      <td>2018-09-02</td>\n",
              "      <td>Active</td>\n",
              "      <td>Active</td>\n",
              "      <td>206</td>\n",
              "      <td>2018-09-02</td>\n",
              "    </tr>\n",
              "    <tr>\n",
              "      <th>3</th>\n",
              "      <td>82e48692-e4fa-494e-b03e-6815a819b7b1</td>\n",
              "      <td>2017-11-10</td>\n",
              "      <td>Reactivated</td>\n",
              "      <td>Churn</td>\n",
              "      <td>47</td>\n",
              "      <td>2018-05-01</td>\n",
              "    </tr>\n",
              "    <tr>\n",
              "      <th>4</th>\n",
              "      <td>382af025-14c8-4ba9-b62f-deddd6f25789</td>\n",
              "      <td>2019-08-05</td>\n",
              "      <td>Inactive</td>\n",
              "      <td>Inactive</td>\n",
              "      <td>66</td>\n",
              "      <td>2019-08-12</td>\n",
              "    </tr>\n",
              "  </tbody>\n",
              "</table>\n",
              "</div>\n",
              "      <button class=\"colab-df-convert\" onclick=\"convertToInteractive('df-faa45a2c-2403-4fb1-a7ac-4b08686d0fe6')\"\n",
              "              title=\"Convert this dataframe to an interactive table.\"\n",
              "              style=\"display:none;\">\n",
              "        \n",
              "  <svg xmlns=\"http://www.w3.org/2000/svg\" height=\"24px\"viewBox=\"0 0 24 24\"\n",
              "       width=\"24px\">\n",
              "    <path d=\"M0 0h24v24H0V0z\" fill=\"none\"/>\n",
              "    <path d=\"M18.56 5.44l.94 2.06.94-2.06 2.06-.94-2.06-.94-.94-2.06-.94 2.06-2.06.94zm-11 1L8.5 8.5l.94-2.06 2.06-.94-2.06-.94L8.5 2.5l-.94 2.06-2.06.94zm10 10l.94 2.06.94-2.06 2.06-.94-2.06-.94-.94-2.06-.94 2.06-2.06.94z\"/><path d=\"M17.41 7.96l-1.37-1.37c-.4-.4-.92-.59-1.43-.59-.52 0-1.04.2-1.43.59L10.3 9.45l-7.72 7.72c-.78.78-.78 2.05 0 2.83L4 21.41c.39.39.9.59 1.41.59.51 0 1.02-.2 1.41-.59l7.78-7.78 2.81-2.81c.8-.78.8-2.07 0-2.86zM5.41 20L4 18.59l7.72-7.72 1.47 1.35L5.41 20z\"/>\n",
              "  </svg>\n",
              "      </button>\n",
              "      \n",
              "  <style>\n",
              "    .colab-df-container {\n",
              "      display:flex;\n",
              "      flex-wrap:wrap;\n",
              "      gap: 12px;\n",
              "    }\n",
              "\n",
              "    .colab-df-convert {\n",
              "      background-color: #E8F0FE;\n",
              "      border: none;\n",
              "      border-radius: 50%;\n",
              "      cursor: pointer;\n",
              "      display: none;\n",
              "      fill: #1967D2;\n",
              "      height: 32px;\n",
              "      padding: 0 0 0 0;\n",
              "      width: 32px;\n",
              "    }\n",
              "\n",
              "    .colab-df-convert:hover {\n",
              "      background-color: #E2EBFA;\n",
              "      box-shadow: 0px 1px 2px rgba(60, 64, 67, 0.3), 0px 1px 3px 1px rgba(60, 64, 67, 0.15);\n",
              "      fill: #174EA6;\n",
              "    }\n",
              "\n",
              "    [theme=dark] .colab-df-convert {\n",
              "      background-color: #3B4455;\n",
              "      fill: #D2E3FC;\n",
              "    }\n",
              "\n",
              "    [theme=dark] .colab-df-convert:hover {\n",
              "      background-color: #434B5C;\n",
              "      box-shadow: 0px 1px 3px 1px rgba(0, 0, 0, 0.15);\n",
              "      filter: drop-shadow(0px 1px 2px rgba(0, 0, 0, 0.3));\n",
              "      fill: #FFFFFF;\n",
              "    }\n",
              "  </style>\n",
              "\n",
              "      <script>\n",
              "        const buttonEl =\n",
              "          document.querySelector('#df-faa45a2c-2403-4fb1-a7ac-4b08686d0fe6 button.colab-df-convert');\n",
              "        buttonEl.style.display =\n",
              "          google.colab.kernel.accessAllowed ? 'block' : 'none';\n",
              "\n",
              "        async function convertToInteractive(key) {\n",
              "          const element = document.querySelector('#df-faa45a2c-2403-4fb1-a7ac-4b08686d0fe6');\n",
              "          const dataTable =\n",
              "            await google.colab.kernel.invokeFunction('convertToInteractive',\n",
              "                                                     [key], {});\n",
              "          if (!dataTable) return;\n",
              "\n",
              "          const docLinkHtml = 'Like what you see? Visit the ' +\n",
              "            '<a target=\"_blank\" href=https://colab.research.google.com/notebooks/data_table.ipynb>data table notebook</a>'\n",
              "            + ' to learn more about interactive tables.';\n",
              "          element.innerHTML = '';\n",
              "          dataTable['output_type'] = 'display_data';\n",
              "          await google.colab.output.renderOutput(dataTable, element);\n",
              "          const docLink = document.createElement('div');\n",
              "          docLink.innerHTML = docLinkHtml;\n",
              "          element.appendChild(docLink);\n",
              "        }\n",
              "      </script>\n",
              "    </div>\n",
              "  </div>\n",
              "  "
            ]
          },
          "metadata": {},
          "execution_count": 4
        }
      ]
    },
    {
      "cell_type": "code",
      "source": [
        "#Visualizando datasets\n",
        "df_orders.head()"
      ],
      "metadata": {
        "colab": {
          "base_uri": "https://localhost:8080/",
          "height": 560
        },
        "id": "wPaU3lT-lUf1",
        "outputId": "644c0b22-9995-40f0-a1af-fc184879032d"
      },
      "execution_count": 5,
      "outputs": [
        {
          "output_type": "execute_result",
          "data": {
            "text/plain": [
              "                               order_id     order_shift order_origin  \\\n",
              "0  000f4c94-ec38-488b-ad98-9bf3ea19d517   weekday lunch   RESTAURANT   \n",
              "1  0018ed39-3ae0-4047-9c9e-fd9a2027e645  weekend dinner   RESTAURANT   \n",
              "2  00214248-5a2d-4333-a919-c1f3afd31389  weekday dinner   RESTAURANT   \n",
              "3  007199e6-6be4-42d0-986c-a0de7650dc80  weekday dinner   RESTAURANT   \n",
              "4  00bb6d10-0a9b-4fe3-9b25-8d18f50bcc3a   weekday lunch   RESTAURANT   \n",
              "\n",
              "   delivery_fee  scheduled  total_amount  subsidy_amount device_platform  \\\n",
              "0         875.0      False        5375.0            0.00         ANDROID   \n",
              "1           0.0      False        2987.5         1250.00             IOS   \n",
              "2           0.0      False        3737.5         2123.75             IOS   \n",
              "3         862.5      False        2237.5            1.25         DESKTOP   \n",
              "4           0.0      False        2750.0            0.00         DESKTOP   \n",
              "\n",
              "  device_type device_app_version  ... merchant_long merchant_lat  \\\n",
              "0      MOBILE             9.39.1  ...        -43.38       -22.83   \n",
              "1      MOBILE             9.63.0  ...        -43.22       -22.93   \n",
              "2      MOBILE             9.56.0  ...        -46.67       -23.62   \n",
              "3        SITE             8.39.0  ...        -43.40       -22.96   \n",
              "4        SITE             8.12.0  ...        -46.64       -23.59   \n",
              "\n",
              "  has_free_delivery            confirmed_date            concluded_date  \\\n",
              "0             False  2020-02-28T14:07:25.953Z  2020-02-28T16:06:03.701Z   \n",
              "1              True  2020-08-21T21:12:23.295Z  2020-08-21T21:59:18.732Z   \n",
              "2              True  2020-07-02T20:21:51.900Z  2020-07-02T20:53:39.176Z   \n",
              "3             False  2020-08-19T20:16:16.718Z  2020-08-19T22:16:16.298Z   \n",
              "4              True  2020-04-15T13:01:55.231Z  2020-04-15T17:02:37.723Z   \n",
              "\n",
              "   lag_last_order                            account_id review_score  \\\n",
              "0             1.0  70a2a5a3-8071-47fc-a623-e9995045314e          5.0   \n",
              "1             1.0  407bab9f-f485-48cd-abea-66e6283058c3          5.0   \n",
              "2             3.0  a16865d2-a3ca-4251-afab-083dadeb06e9          5.0   \n",
              "3             0.0  a7f00fd8-d5d6-4604-9bce-ffe35b16848d          5.0   \n",
              "4             1.0  63284037-3ade-4600-88e9-5009b9504d8f          5.0   \n",
              "\n",
              "  nps_score         review_created_at  \n",
              "0         8  2020-02-28T19:06:31.861Z  \n",
              "1         8  2020-09-04T00:14:14.365Z  \n",
              "2         5  2020-07-03T03:49:03.214Z  \n",
              "3        10  2020-08-26T17:44:08.137Z  \n",
              "4        10  2020-04-17T22:05:13.983Z  \n",
              "\n",
              "[5 rows x 34 columns]"
            ],
            "text/html": [
              "\n",
              "  <div id=\"df-02d54ab2-4153-4e67-81c5-91b83179a3ff\">\n",
              "    <div class=\"colab-df-container\">\n",
              "      <div>\n",
              "<style scoped>\n",
              "    .dataframe tbody tr th:only-of-type {\n",
              "        vertical-align: middle;\n",
              "    }\n",
              "\n",
              "    .dataframe tbody tr th {\n",
              "        vertical-align: top;\n",
              "    }\n",
              "\n",
              "    .dataframe thead th {\n",
              "        text-align: right;\n",
              "    }\n",
              "</style>\n",
              "<table border=\"1\" class=\"dataframe\">\n",
              "  <thead>\n",
              "    <tr style=\"text-align: right;\">\n",
              "      <th></th>\n",
              "      <th>order_id</th>\n",
              "      <th>order_shift</th>\n",
              "      <th>order_origin</th>\n",
              "      <th>delivery_fee</th>\n",
              "      <th>scheduled</th>\n",
              "      <th>total_amount</th>\n",
              "      <th>subsidy_amount</th>\n",
              "      <th>device_platform</th>\n",
              "      <th>device_type</th>\n",
              "      <th>device_app_version</th>\n",
              "      <th>...</th>\n",
              "      <th>merchant_long</th>\n",
              "      <th>merchant_lat</th>\n",
              "      <th>has_free_delivery</th>\n",
              "      <th>confirmed_date</th>\n",
              "      <th>concluded_date</th>\n",
              "      <th>lag_last_order</th>\n",
              "      <th>account_id</th>\n",
              "      <th>review_score</th>\n",
              "      <th>nps_score</th>\n",
              "      <th>review_created_at</th>\n",
              "    </tr>\n",
              "  </thead>\n",
              "  <tbody>\n",
              "    <tr>\n",
              "      <th>0</th>\n",
              "      <td>000f4c94-ec38-488b-ad98-9bf3ea19d517</td>\n",
              "      <td>weekday lunch</td>\n",
              "      <td>RESTAURANT</td>\n",
              "      <td>875.0</td>\n",
              "      <td>False</td>\n",
              "      <td>5375.0</td>\n",
              "      <td>0.00</td>\n",
              "      <td>ANDROID</td>\n",
              "      <td>MOBILE</td>\n",
              "      <td>9.39.1</td>\n",
              "      <td>...</td>\n",
              "      <td>-43.38</td>\n",
              "      <td>-22.83</td>\n",
              "      <td>False</td>\n",
              "      <td>2020-02-28T14:07:25.953Z</td>\n",
              "      <td>2020-02-28T16:06:03.701Z</td>\n",
              "      <td>1.0</td>\n",
              "      <td>70a2a5a3-8071-47fc-a623-e9995045314e</td>\n",
              "      <td>5.0</td>\n",
              "      <td>8</td>\n",
              "      <td>2020-02-28T19:06:31.861Z</td>\n",
              "    </tr>\n",
              "    <tr>\n",
              "      <th>1</th>\n",
              "      <td>0018ed39-3ae0-4047-9c9e-fd9a2027e645</td>\n",
              "      <td>weekend dinner</td>\n",
              "      <td>RESTAURANT</td>\n",
              "      <td>0.0</td>\n",
              "      <td>False</td>\n",
              "      <td>2987.5</td>\n",
              "      <td>1250.00</td>\n",
              "      <td>IOS</td>\n",
              "      <td>MOBILE</td>\n",
              "      <td>9.63.0</td>\n",
              "      <td>...</td>\n",
              "      <td>-43.22</td>\n",
              "      <td>-22.93</td>\n",
              "      <td>True</td>\n",
              "      <td>2020-08-21T21:12:23.295Z</td>\n",
              "      <td>2020-08-21T21:59:18.732Z</td>\n",
              "      <td>1.0</td>\n",
              "      <td>407bab9f-f485-48cd-abea-66e6283058c3</td>\n",
              "      <td>5.0</td>\n",
              "      <td>8</td>\n",
              "      <td>2020-09-04T00:14:14.365Z</td>\n",
              "    </tr>\n",
              "    <tr>\n",
              "      <th>2</th>\n",
              "      <td>00214248-5a2d-4333-a919-c1f3afd31389</td>\n",
              "      <td>weekday dinner</td>\n",
              "      <td>RESTAURANT</td>\n",
              "      <td>0.0</td>\n",
              "      <td>False</td>\n",
              "      <td>3737.5</td>\n",
              "      <td>2123.75</td>\n",
              "      <td>IOS</td>\n",
              "      <td>MOBILE</td>\n",
              "      <td>9.56.0</td>\n",
              "      <td>...</td>\n",
              "      <td>-46.67</td>\n",
              "      <td>-23.62</td>\n",
              "      <td>True</td>\n",
              "      <td>2020-07-02T20:21:51.900Z</td>\n",
              "      <td>2020-07-02T20:53:39.176Z</td>\n",
              "      <td>3.0</td>\n",
              "      <td>a16865d2-a3ca-4251-afab-083dadeb06e9</td>\n",
              "      <td>5.0</td>\n",
              "      <td>5</td>\n",
              "      <td>2020-07-03T03:49:03.214Z</td>\n",
              "    </tr>\n",
              "    <tr>\n",
              "      <th>3</th>\n",
              "      <td>007199e6-6be4-42d0-986c-a0de7650dc80</td>\n",
              "      <td>weekday dinner</td>\n",
              "      <td>RESTAURANT</td>\n",
              "      <td>862.5</td>\n",
              "      <td>False</td>\n",
              "      <td>2237.5</td>\n",
              "      <td>1.25</td>\n",
              "      <td>DESKTOP</td>\n",
              "      <td>SITE</td>\n",
              "      <td>8.39.0</td>\n",
              "      <td>...</td>\n",
              "      <td>-43.40</td>\n",
              "      <td>-22.96</td>\n",
              "      <td>False</td>\n",
              "      <td>2020-08-19T20:16:16.718Z</td>\n",
              "      <td>2020-08-19T22:16:16.298Z</td>\n",
              "      <td>0.0</td>\n",
              "      <td>a7f00fd8-d5d6-4604-9bce-ffe35b16848d</td>\n",
              "      <td>5.0</td>\n",
              "      <td>10</td>\n",
              "      <td>2020-08-26T17:44:08.137Z</td>\n",
              "    </tr>\n",
              "    <tr>\n",
              "      <th>4</th>\n",
              "      <td>00bb6d10-0a9b-4fe3-9b25-8d18f50bcc3a</td>\n",
              "      <td>weekday lunch</td>\n",
              "      <td>RESTAURANT</td>\n",
              "      <td>0.0</td>\n",
              "      <td>False</td>\n",
              "      <td>2750.0</td>\n",
              "      <td>0.00</td>\n",
              "      <td>DESKTOP</td>\n",
              "      <td>SITE</td>\n",
              "      <td>8.12.0</td>\n",
              "      <td>...</td>\n",
              "      <td>-46.64</td>\n",
              "      <td>-23.59</td>\n",
              "      <td>True</td>\n",
              "      <td>2020-04-15T13:01:55.231Z</td>\n",
              "      <td>2020-04-15T17:02:37.723Z</td>\n",
              "      <td>1.0</td>\n",
              "      <td>63284037-3ade-4600-88e9-5009b9504d8f</td>\n",
              "      <td>5.0</td>\n",
              "      <td>10</td>\n",
              "      <td>2020-04-17T22:05:13.983Z</td>\n",
              "    </tr>\n",
              "  </tbody>\n",
              "</table>\n",
              "<p>5 rows × 34 columns</p>\n",
              "</div>\n",
              "      <button class=\"colab-df-convert\" onclick=\"convertToInteractive('df-02d54ab2-4153-4e67-81c5-91b83179a3ff')\"\n",
              "              title=\"Convert this dataframe to an interactive table.\"\n",
              "              style=\"display:none;\">\n",
              "        \n",
              "  <svg xmlns=\"http://www.w3.org/2000/svg\" height=\"24px\"viewBox=\"0 0 24 24\"\n",
              "       width=\"24px\">\n",
              "    <path d=\"M0 0h24v24H0V0z\" fill=\"none\"/>\n",
              "    <path d=\"M18.56 5.44l.94 2.06.94-2.06 2.06-.94-2.06-.94-.94-2.06-.94 2.06-2.06.94zm-11 1L8.5 8.5l.94-2.06 2.06-.94-2.06-.94L8.5 2.5l-.94 2.06-2.06.94zm10 10l.94 2.06.94-2.06 2.06-.94-2.06-.94-.94-2.06-.94 2.06-2.06.94z\"/><path d=\"M17.41 7.96l-1.37-1.37c-.4-.4-.92-.59-1.43-.59-.52 0-1.04.2-1.43.59L10.3 9.45l-7.72 7.72c-.78.78-.78 2.05 0 2.83L4 21.41c.39.39.9.59 1.41.59.51 0 1.02-.2 1.41-.59l7.78-7.78 2.81-2.81c.8-.78.8-2.07 0-2.86zM5.41 20L4 18.59l7.72-7.72 1.47 1.35L5.41 20z\"/>\n",
              "  </svg>\n",
              "      </button>\n",
              "      \n",
              "  <style>\n",
              "    .colab-df-container {\n",
              "      display:flex;\n",
              "      flex-wrap:wrap;\n",
              "      gap: 12px;\n",
              "    }\n",
              "\n",
              "    .colab-df-convert {\n",
              "      background-color: #E8F0FE;\n",
              "      border: none;\n",
              "      border-radius: 50%;\n",
              "      cursor: pointer;\n",
              "      display: none;\n",
              "      fill: #1967D2;\n",
              "      height: 32px;\n",
              "      padding: 0 0 0 0;\n",
              "      width: 32px;\n",
              "    }\n",
              "\n",
              "    .colab-df-convert:hover {\n",
              "      background-color: #E2EBFA;\n",
              "      box-shadow: 0px 1px 2px rgba(60, 64, 67, 0.3), 0px 1px 3px 1px rgba(60, 64, 67, 0.15);\n",
              "      fill: #174EA6;\n",
              "    }\n",
              "\n",
              "    [theme=dark] .colab-df-convert {\n",
              "      background-color: #3B4455;\n",
              "      fill: #D2E3FC;\n",
              "    }\n",
              "\n",
              "    [theme=dark] .colab-df-convert:hover {\n",
              "      background-color: #434B5C;\n",
              "      box-shadow: 0px 1px 3px 1px rgba(0, 0, 0, 0.15);\n",
              "      filter: drop-shadow(0px 1px 2px rgba(0, 0, 0, 0.3));\n",
              "      fill: #FFFFFF;\n",
              "    }\n",
              "  </style>\n",
              "\n",
              "      <script>\n",
              "        const buttonEl =\n",
              "          document.querySelector('#df-02d54ab2-4153-4e67-81c5-91b83179a3ff button.colab-df-convert');\n",
              "        buttonEl.style.display =\n",
              "          google.colab.kernel.accessAllowed ? 'block' : 'none';\n",
              "\n",
              "        async function convertToInteractive(key) {\n",
              "          const element = document.querySelector('#df-02d54ab2-4153-4e67-81c5-91b83179a3ff');\n",
              "          const dataTable =\n",
              "            await google.colab.kernel.invokeFunction('convertToInteractive',\n",
              "                                                     [key], {});\n",
              "          if (!dataTable) return;\n",
              "\n",
              "          const docLinkHtml = 'Like what you see? Visit the ' +\n",
              "            '<a target=\"_blank\" href=https://colab.research.google.com/notebooks/data_table.ipynb>data table notebook</a>'\n",
              "            + ' to learn more about interactive tables.';\n",
              "          element.innerHTML = '';\n",
              "          dataTable['output_type'] = 'display_data';\n",
              "          await google.colab.output.renderOutput(dataTable, element);\n",
              "          const docLink = document.createElement('div');\n",
              "          docLink.innerHTML = docLinkHtml;\n",
              "          element.appendChild(docLink);\n",
              "        }\n",
              "      </script>\n",
              "    </div>\n",
              "  </div>\n",
              "  "
            ]
          },
          "metadata": {},
          "execution_count": 5
        }
      ]
    },
    {
      "cell_type": "code",
      "source": [
        "#Visualizando datasets\n",
        "df_sessions.head()"
      ],
      "metadata": {
        "colab": {
          "base_uri": "https://localhost:8080/",
          "height": 530
        },
        "id": "qvJt5zgemLKy",
        "outputId": "d0b1ebad-dfcb-45f2-f067-83501f613c83"
      },
      "execution_count": null,
      "outputs": [
        {
          "output_type": "execute_result",
          "data": {
            "text/plain": [
              "                             session_id                     user_account_uuid  \\\n",
              "0  0a364c77-4375-4334-8f64-a06bdd22229c  5a2fbdea-e2ee-41a5-b47c-41fbebdc78ef   \n",
              "1  b01811cd-ad2c-42f1-bccf-b90698ccc7a8  20cb43a7-c90d-4451-b067-e1b934746de6   \n",
              "2  aa453bd1-da47-4cfa-9ce7-a7e2c9227dec  b6bd9094-c2f0-471c-b6ec-9475d8d0591b   \n",
              "3  39ca6d98-c9d1-4dff-9158-c7416be6d309  d7ddb2ac-31bf-4e3d-848a-9efc86a70f6d   \n",
              "4  cf456658-0426-46c2-b6c1-fc27c186e15e  8d9bb514-cc57-4181-bb9d-b94b7fbbfd98   \n",
              "\n",
              "            session_started             session_ended install_timestamp  \\\n",
              "0  2020-02-01T00:00:03.924Z  2020-02-01T00:10:51.217Z               NaN   \n",
              "1  2020-02-01T00:00:09.616Z  2020-02-01T00:14:22.713Z               NaN   \n",
              "2  2020-02-01T00:00:14.479Z  2020-02-01T00:08:20.102Z               NaN   \n",
              "3  2020-02-01T00:00:14.650Z  2020-02-01T00:02:49.615Z               NaN   \n",
              "4  2020-02-01T00:00:41.607Z  2020-02-01T00:16:57.415Z               NaN   \n",
              "\n",
              "   sum_view_restaurant_screen  sum_view_dish_screen  sum_click_add_item  \\\n",
              "0                          19                     5                 6.0   \n",
              "1                          14                     1                 0.0   \n",
              "2                          31                     4                 4.0   \n",
              "3                          12                     3                 0.0   \n",
              "4                           4                     0                 0.0   \n",
              "\n",
              "   sum_view_checkout  sum_callback_purchase first_order_has_voucher  \\\n",
              "0                6.0                    7.0                   False   \n",
              "1                0.0                    0.0                     NaN   \n",
              "2                3.0                    1.0                   False   \n",
              "3                0.0                    0.0                     NaN   \n",
              "4                0.0                    0.0                     NaN   \n",
              "\n",
              "  media_campaign  load_time  available_restaurants  rownumber  \n",
              "0            NaN        5.0                  462.0        1.0  \n",
              "1            NaN        5.0                  128.0        2.0  \n",
              "2            NaN        6.0                  187.0        3.0  \n",
              "3            NaN        5.0                   22.0        4.0  \n",
              "4            NaN       28.0                    3.0        5.0  "
            ],
            "text/html": [
              "\n",
              "  <div id=\"df-d2001d34-adaf-491a-a8cb-5fc756d0a77e\">\n",
              "    <div class=\"colab-df-container\">\n",
              "      <div>\n",
              "<style scoped>\n",
              "    .dataframe tbody tr th:only-of-type {\n",
              "        vertical-align: middle;\n",
              "    }\n",
              "\n",
              "    .dataframe tbody tr th {\n",
              "        vertical-align: top;\n",
              "    }\n",
              "\n",
              "    .dataframe thead th {\n",
              "        text-align: right;\n",
              "    }\n",
              "</style>\n",
              "<table border=\"1\" class=\"dataframe\">\n",
              "  <thead>\n",
              "    <tr style=\"text-align: right;\">\n",
              "      <th></th>\n",
              "      <th>session_id</th>\n",
              "      <th>user_account_uuid</th>\n",
              "      <th>session_started</th>\n",
              "      <th>session_ended</th>\n",
              "      <th>install_timestamp</th>\n",
              "      <th>sum_view_restaurant_screen</th>\n",
              "      <th>sum_view_dish_screen</th>\n",
              "      <th>sum_click_add_item</th>\n",
              "      <th>sum_view_checkout</th>\n",
              "      <th>sum_callback_purchase</th>\n",
              "      <th>first_order_has_voucher</th>\n",
              "      <th>media_campaign</th>\n",
              "      <th>load_time</th>\n",
              "      <th>available_restaurants</th>\n",
              "      <th>rownumber</th>\n",
              "    </tr>\n",
              "  </thead>\n",
              "  <tbody>\n",
              "    <tr>\n",
              "      <th>0</th>\n",
              "      <td>0a364c77-4375-4334-8f64-a06bdd22229c</td>\n",
              "      <td>5a2fbdea-e2ee-41a5-b47c-41fbebdc78ef</td>\n",
              "      <td>2020-02-01T00:00:03.924Z</td>\n",
              "      <td>2020-02-01T00:10:51.217Z</td>\n",
              "      <td>NaN</td>\n",
              "      <td>19</td>\n",
              "      <td>5</td>\n",
              "      <td>6.0</td>\n",
              "      <td>6.0</td>\n",
              "      <td>7.0</td>\n",
              "      <td>False</td>\n",
              "      <td>NaN</td>\n",
              "      <td>5.0</td>\n",
              "      <td>462.0</td>\n",
              "      <td>1.0</td>\n",
              "    </tr>\n",
              "    <tr>\n",
              "      <th>1</th>\n",
              "      <td>b01811cd-ad2c-42f1-bccf-b90698ccc7a8</td>\n",
              "      <td>20cb43a7-c90d-4451-b067-e1b934746de6</td>\n",
              "      <td>2020-02-01T00:00:09.616Z</td>\n",
              "      <td>2020-02-01T00:14:22.713Z</td>\n",
              "      <td>NaN</td>\n",
              "      <td>14</td>\n",
              "      <td>1</td>\n",
              "      <td>0.0</td>\n",
              "      <td>0.0</td>\n",
              "      <td>0.0</td>\n",
              "      <td>NaN</td>\n",
              "      <td>NaN</td>\n",
              "      <td>5.0</td>\n",
              "      <td>128.0</td>\n",
              "      <td>2.0</td>\n",
              "    </tr>\n",
              "    <tr>\n",
              "      <th>2</th>\n",
              "      <td>aa453bd1-da47-4cfa-9ce7-a7e2c9227dec</td>\n",
              "      <td>b6bd9094-c2f0-471c-b6ec-9475d8d0591b</td>\n",
              "      <td>2020-02-01T00:00:14.479Z</td>\n",
              "      <td>2020-02-01T00:08:20.102Z</td>\n",
              "      <td>NaN</td>\n",
              "      <td>31</td>\n",
              "      <td>4</td>\n",
              "      <td>4.0</td>\n",
              "      <td>3.0</td>\n",
              "      <td>1.0</td>\n",
              "      <td>False</td>\n",
              "      <td>NaN</td>\n",
              "      <td>6.0</td>\n",
              "      <td>187.0</td>\n",
              "      <td>3.0</td>\n",
              "    </tr>\n",
              "    <tr>\n",
              "      <th>3</th>\n",
              "      <td>39ca6d98-c9d1-4dff-9158-c7416be6d309</td>\n",
              "      <td>d7ddb2ac-31bf-4e3d-848a-9efc86a70f6d</td>\n",
              "      <td>2020-02-01T00:00:14.650Z</td>\n",
              "      <td>2020-02-01T00:02:49.615Z</td>\n",
              "      <td>NaN</td>\n",
              "      <td>12</td>\n",
              "      <td>3</td>\n",
              "      <td>0.0</td>\n",
              "      <td>0.0</td>\n",
              "      <td>0.0</td>\n",
              "      <td>NaN</td>\n",
              "      <td>NaN</td>\n",
              "      <td>5.0</td>\n",
              "      <td>22.0</td>\n",
              "      <td>4.0</td>\n",
              "    </tr>\n",
              "    <tr>\n",
              "      <th>4</th>\n",
              "      <td>cf456658-0426-46c2-b6c1-fc27c186e15e</td>\n",
              "      <td>8d9bb514-cc57-4181-bb9d-b94b7fbbfd98</td>\n",
              "      <td>2020-02-01T00:00:41.607Z</td>\n",
              "      <td>2020-02-01T00:16:57.415Z</td>\n",
              "      <td>NaN</td>\n",
              "      <td>4</td>\n",
              "      <td>0</td>\n",
              "      <td>0.0</td>\n",
              "      <td>0.0</td>\n",
              "      <td>0.0</td>\n",
              "      <td>NaN</td>\n",
              "      <td>NaN</td>\n",
              "      <td>28.0</td>\n",
              "      <td>3.0</td>\n",
              "      <td>5.0</td>\n",
              "    </tr>\n",
              "  </tbody>\n",
              "</table>\n",
              "</div>\n",
              "      <button class=\"colab-df-convert\" onclick=\"convertToInteractive('df-d2001d34-adaf-491a-a8cb-5fc756d0a77e')\"\n",
              "              title=\"Convert this dataframe to an interactive table.\"\n",
              "              style=\"display:none;\">\n",
              "        \n",
              "  <svg xmlns=\"http://www.w3.org/2000/svg\" height=\"24px\"viewBox=\"0 0 24 24\"\n",
              "       width=\"24px\">\n",
              "    <path d=\"M0 0h24v24H0V0z\" fill=\"none\"/>\n",
              "    <path d=\"M18.56 5.44l.94 2.06.94-2.06 2.06-.94-2.06-.94-.94-2.06-.94 2.06-2.06.94zm-11 1L8.5 8.5l.94-2.06 2.06-.94-2.06-.94L8.5 2.5l-.94 2.06-2.06.94zm10 10l.94 2.06.94-2.06 2.06-.94-2.06-.94-.94-2.06-.94 2.06-2.06.94z\"/><path d=\"M17.41 7.96l-1.37-1.37c-.4-.4-.92-.59-1.43-.59-.52 0-1.04.2-1.43.59L10.3 9.45l-7.72 7.72c-.78.78-.78 2.05 0 2.83L4 21.41c.39.39.9.59 1.41.59.51 0 1.02-.2 1.41-.59l7.78-7.78 2.81-2.81c.8-.78.8-2.07 0-2.86zM5.41 20L4 18.59l7.72-7.72 1.47 1.35L5.41 20z\"/>\n",
              "  </svg>\n",
              "      </button>\n",
              "      \n",
              "  <style>\n",
              "    .colab-df-container {\n",
              "      display:flex;\n",
              "      flex-wrap:wrap;\n",
              "      gap: 12px;\n",
              "    }\n",
              "\n",
              "    .colab-df-convert {\n",
              "      background-color: #E8F0FE;\n",
              "      border: none;\n",
              "      border-radius: 50%;\n",
              "      cursor: pointer;\n",
              "      display: none;\n",
              "      fill: #1967D2;\n",
              "      height: 32px;\n",
              "      padding: 0 0 0 0;\n",
              "      width: 32px;\n",
              "    }\n",
              "\n",
              "    .colab-df-convert:hover {\n",
              "      background-color: #E2EBFA;\n",
              "      box-shadow: 0px 1px 2px rgba(60, 64, 67, 0.3), 0px 1px 3px 1px rgba(60, 64, 67, 0.15);\n",
              "      fill: #174EA6;\n",
              "    }\n",
              "\n",
              "    [theme=dark] .colab-df-convert {\n",
              "      background-color: #3B4455;\n",
              "      fill: #D2E3FC;\n",
              "    }\n",
              "\n",
              "    [theme=dark] .colab-df-convert:hover {\n",
              "      background-color: #434B5C;\n",
              "      box-shadow: 0px 1px 3px 1px rgba(0, 0, 0, 0.15);\n",
              "      filter: drop-shadow(0px 1px 2px rgba(0, 0, 0, 0.3));\n",
              "      fill: #FFFFFF;\n",
              "    }\n",
              "  </style>\n",
              "\n",
              "      <script>\n",
              "        const buttonEl =\n",
              "          document.querySelector('#df-d2001d34-adaf-491a-a8cb-5fc756d0a77e button.colab-df-convert');\n",
              "        buttonEl.style.display =\n",
              "          google.colab.kernel.accessAllowed ? 'block' : 'none';\n",
              "\n",
              "        async function convertToInteractive(key) {\n",
              "          const element = document.querySelector('#df-d2001d34-adaf-491a-a8cb-5fc756d0a77e');\n",
              "          const dataTable =\n",
              "            await google.colab.kernel.invokeFunction('convertToInteractive',\n",
              "                                                     [key], {});\n",
              "          if (!dataTable) return;\n",
              "\n",
              "          const docLinkHtml = 'Like what you see? Visit the ' +\n",
              "            '<a target=\"_blank\" href=https://colab.research.google.com/notebooks/data_table.ipynb>data table notebook</a>'\n",
              "            + ' to learn more about interactive tables.';\n",
              "          element.innerHTML = '';\n",
              "          dataTable['output_type'] = 'display_data';\n",
              "          await google.colab.output.renderOutput(dataTable, element);\n",
              "          const docLink = document.createElement('div');\n",
              "          docLink.innerHTML = docLinkHtml;\n",
              "          element.appendChild(docLink);\n",
              "        }\n",
              "      </script>\n",
              "    </div>\n",
              "  </div>\n",
              "  "
            ]
          },
          "metadata": {},
          "execution_count": 14
        }
      ]
    },
    {
      "cell_type": "code",
      "source": [
        "#ANALISANDO O TAMANHO DOS DATASETS\n",
        "df_marketing.shape\n"
      ],
      "metadata": {
        "colab": {
          "base_uri": "https://localhost:8080/"
        },
        "id": "L6ZZZS6LmCpL",
        "outputId": "bee31bf7-58cc-4b14-ba65-6561cca8d04a"
      },
      "execution_count": null,
      "outputs": [
        {
          "output_type": "execute_result",
          "data": {
            "text/plain": [
              "(20249, 6)"
            ]
          },
          "metadata": {},
          "execution_count": 15
        }
      ]
    },
    {
      "cell_type": "code",
      "source": [
        "df_orders.shape\n"
      ],
      "metadata": {
        "colab": {
          "base_uri": "https://localhost:8080/"
        },
        "id": "U71Pg_8wmMA5",
        "outputId": "05bfab33-933f-4f34-f2c7-4311d285d510"
      },
      "execution_count": null,
      "outputs": [
        {
          "output_type": "execute_result",
          "data": {
            "text/plain": [
              "(226269, 34)"
            ]
          },
          "metadata": {},
          "execution_count": 16
        }
      ]
    },
    {
      "cell_type": "code",
      "source": [
        "df_sessions.shape"
      ],
      "metadata": {
        "colab": {
          "base_uri": "https://localhost:8080/"
        },
        "id": "0mi_TxzCmNMj",
        "outputId": "1363d5a7-de43-4a82-eced-ebf1074531dc"
      },
      "execution_count": null,
      "outputs": [
        {
          "output_type": "execute_result",
          "data": {
            "text/plain": [
              "(188489, 15)"
            ]
          },
          "metadata": {},
          "execution_count": 17
        }
      ]
    },
    {
      "cell_type": "code",
      "source": [
        "#Checando missings\n",
        "df_marketing.isnull().sum()"
      ],
      "metadata": {
        "colab": {
          "base_uri": "https://localhost:8080/"
        },
        "id": "Ep-rY0grdKbU",
        "outputId": "573e1918-110b-4461-9a30-716565c0942c"
      },
      "execution_count": 5,
      "outputs": [
        {
          "output_type": "execute_result",
          "data": {
            "text/plain": [
              "account_id                 0\n",
              "registration_date          0\n",
              "ifood_status               0\n",
              "ifood_status_last_month    0\n",
              "total_order_count          0\n",
              "first_order_date           1\n",
              "dtype: int64"
            ]
          },
          "metadata": {},
          "execution_count": 5
        }
      ]
    },
    {
      "cell_type": "code",
      "source": [
        "#Excluindo os missings\n",
        "df_marketing = df_marketing.dropna()"
      ],
      "metadata": {
        "id": "SFepkMQ3ddcH"
      },
      "execution_count": 6,
      "outputs": []
    },
    {
      "cell_type": "code",
      "source": [
        "#Checando missings\n",
        "df_orders.isnull().sum()"
      ],
      "metadata": {
        "colab": {
          "base_uri": "https://localhost:8080/"
        },
        "id": "F543gJNGdjIv",
        "outputId": "68a0ca43-4c95-414c-e8b9-25b92a6e4f8e"
      },
      "execution_count": null,
      "outputs": [
        {
          "output_type": "execute_result",
          "data": {
            "text/plain": [
              "order_id                   0\n",
              "order_shift                0\n",
              "order_origin               0\n",
              "delivery_fee               0\n",
              "scheduled                  0\n",
              "total_amount               0\n",
              "subsidy_amount             0\n",
              "device_platform            0\n",
              "device_type                0\n",
              "device_app_version      4435\n",
              "centroid_id                0\n",
              "state_label                0\n",
              "city                       0\n",
              "district                   0\n",
              "customer_long              0\n",
              "customer_lat               0\n",
              "restaurant_id              0\n",
              "dish_type                  0\n",
              "group_id                   0\n",
              "merchant_centroid_id       0\n",
              "merchant_state             0\n",
              "merchant_city              0\n",
              "merchant_district          0\n",
              "merchant_zipcode           0\n",
              "merchant_long              0\n",
              "merchant_lat               0\n",
              "has_free_delivery          0\n",
              "confirmed_date            14\n",
              "concluded_date             4\n",
              "lag_last_order           184\n",
              "account_id                 0\n",
              "review_score               0\n",
              "nps_score                  0\n",
              "review_created_at          0\n",
              "dtype: int64"
            ]
          },
          "metadata": {},
          "execution_count": 20
        }
      ]
    },
    {
      "cell_type": "code",
      "source": [
        "#Aja visto que o dataset de orders possui mais de 200 mil linhas e o valor de missing é muito pequeno perante isso, irei dropar os mesmos\n",
        "df_orders = df_orders.dropna()"
      ],
      "metadata": {
        "id": "rf5Nt7Medwp9"
      },
      "execution_count": 7,
      "outputs": []
    },
    {
      "cell_type": "code",
      "source": [
        "#Checando o último dataset \n",
        "df_sessions.isnull().sum()"
      ],
      "metadata": {
        "colab": {
          "base_uri": "https://localhost:8080/"
        },
        "id": "p3vT5lwriAPb",
        "outputId": "6b64ea2c-107f-447b-fde8-478a30379c90"
      },
      "execution_count": null,
      "outputs": [
        {
          "output_type": "execute_result",
          "data": {
            "text/plain": [
              "session_id                         0\n",
              "user_account_uuid                  0\n",
              "session_started                    0\n",
              "session_ended                   1477\n",
              "install_timestamp             187786\n",
              "sum_view_restaurant_screen         0\n",
              "sum_view_dish_screen               0\n",
              "sum_click_add_item                 1\n",
              "sum_view_checkout                  1\n",
              "sum_callback_purchase              1\n",
              "first_order_has_voucher       104426\n",
              "media_campaign                186984\n",
              "load_time                      30994\n",
              "available_restaurants              1\n",
              "rownumber                          1\n",
              "dtype: int64"
            ]
          },
          "metadata": {},
          "execution_count": 22
        }
      ]
    },
    {
      "cell_type": "code",
      "source": [
        "del df_sessions['first_order_has_voucher']"
      ],
      "metadata": {
        "id": "N5Udw6CxlE3l"
      },
      "execution_count": 8,
      "outputs": []
    },
    {
      "cell_type": "code",
      "source": [
        "del df_sessions['media_campaign']"
      ],
      "metadata": {
        "id": "KPzVdj7XlLL6"
      },
      "execution_count": 9,
      "outputs": []
    },
    {
      "cell_type": "code",
      "source": [
        "del df_sessions['load_time']"
      ],
      "metadata": {
        "id": "xitYFVxDlOlf"
      },
      "execution_count": 10,
      "outputs": []
    },
    {
      "cell_type": "code",
      "source": [
        "#Novamente excluindo esses poucos missings depois de deletar algumas colunas muito prejudicadas\n",
        "df_sessions.dropna()"
      ],
      "metadata": {
        "colab": {
          "base_uri": "https://localhost:8080/",
          "height": 973
        },
        "id": "ZLHHDBaslSdE",
        "outputId": "9f77b824-6532-4273-9d7f-3414ad2e3251"
      },
      "execution_count": 11,
      "outputs": [
        {
          "output_type": "execute_result",
          "data": {
            "text/plain": [
              "                                  session_id  \\\n",
              "20      77b0e143-a9d3-4e02-bb17-f8bd9233aa0b   \n",
              "709     5f92fd0f-10eb-465e-b42a-d443a2820d3e   \n",
              "749     f3dc7ab3-4c76-4693-842b-19fa0c44267b   \n",
              "777     458bf927-e686-4637-b2da-1831563fb1fb   \n",
              "794     f53b26ee-bc89-4df2-95fc-31776b6cbd7a   \n",
              "...                                      ...   \n",
              "187718  87e8a955-5f66-4b34-9be5-a0ca717e0904   \n",
              "187840  76ae4583-ba12-45e6-a531-a4e4cdeaf7ed   \n",
              "187931  33686a46-c66b-42da-9002-b7e62659adb1   \n",
              "188195  883b024f-f0cc-46e3-838b-666b28ff4c49   \n",
              "188448  10671e72-be22-4232-9b59-6d3a8d18a834   \n",
              "\n",
              "                           user_account_uuid           session_started  \\\n",
              "20      dd29f99e-e072-45f3-8731-3c2da182a18c  2020-02-01T00:01:45.519Z   \n",
              "709     11ac1f46-9691-4795-aa5a-57df3d01295d  2020-02-01T02:06:38.558Z   \n",
              "749     18b2b703-842d-4747-b360-54e219e9b7a2  2020-02-01T02:21:59.059Z   \n",
              "777     ba7f09e5-aebe-453a-ab34-9f4b3e9e56a9  2020-02-01T02:33:41.307Z   \n",
              "794     0524e9d8-f8a1-48fc-a9be-2fc352fa730f  2020-02-01T02:42:26.581Z   \n",
              "...                                      ...                       ...   \n",
              "187718  32450a12-1b97-4ed3-98fb-dab274db9a81  2020-02-12T12:59:30.570Z   \n",
              "187840  74dbb6bb-4636-4f05-9604-d3a05bde45f6  2020-02-12T13:05:33.143Z   \n",
              "187931  5ee8868c-11f8-4287-ae18-47a12e621121  2020-02-12T13:10:34.105Z   \n",
              "188195  35553c9b-4da5-46d5-8b0e-5e363e341d39  2020-02-12T13:24:27.708Z   \n",
              "188448  dee37062-8b23-4dd1-9f23-b83f9e27d2f4  2020-02-12T13:38:08.794Z   \n",
              "\n",
              "                   session_ended         install_timestamp  \\\n",
              "20      2020-02-01T00:15:59.548Z  2020-02-01T00:01:45.000Z   \n",
              "709     2020-02-01T03:23:01.484Z  2020-02-01T02:06:38.000Z   \n",
              "749     2020-02-01T02:35:30.772Z  2020-02-01T02:21:59.000Z   \n",
              "777     2020-02-01T02:41:47.214Z  2020-02-01T02:33:41.000Z   \n",
              "794     2020-02-01T03:01:27.022Z  2020-02-01T02:42:26.000Z   \n",
              "...                          ...                       ...   \n",
              "187718  2020-02-12T13:08:56.900Z  2020-02-12T12:59:30.000Z   \n",
              "187840  2020-02-12T13:39:35.398Z  2020-02-12T13:05:33.000Z   \n",
              "187931  2020-02-12T13:38:32.715Z  2020-02-12T13:10:34.000Z   \n",
              "188195  2020-02-12T13:50:03.769Z  2020-02-12T13:24:27.000Z   \n",
              "188448  2020-02-12T13:48:38.747Z  2020-02-12T13:38:08.000Z   \n",
              "\n",
              "        sum_view_restaurant_screen  sum_view_dish_screen  sum_click_add_item  \\\n",
              "20                               1                     2                 2.0   \n",
              "709                             13                     6                 2.0   \n",
              "749                             14                    15                12.0   \n",
              "777                              0                     0                 0.0   \n",
              "794                              2                     1                 1.0   \n",
              "...                            ...                   ...                 ...   \n",
              "187718                           1                     1                 1.0   \n",
              "187840                          28                    15                10.0   \n",
              "187931                           4                     1                 0.0   \n",
              "188195                           8                     4                 3.0   \n",
              "188448                           8                     2                 3.0   \n",
              "\n",
              "        sum_view_checkout  sum_callback_purchase  available_restaurants  \\\n",
              "20                    6.0                    8.0                  615.0   \n",
              "709                   3.0                    3.0                   26.0   \n",
              "749                  31.0                   22.0                   13.0   \n",
              "777                   0.0                    0.0                    3.0   \n",
              "794                   1.0                    0.0                  128.0   \n",
              "...                   ...                    ...                    ...   \n",
              "187718               10.0                    9.0                   17.0   \n",
              "187840                8.0                   21.0                  224.0   \n",
              "187931                0.0                    0.0                 2680.0   \n",
              "188195                3.0                    1.0                 3198.0   \n",
              "188448                6.0                    0.0                  255.0   \n",
              "\n",
              "        rownumber  \n",
              "20           21.0  \n",
              "709         710.0  \n",
              "749         750.0  \n",
              "777         778.0  \n",
              "794         795.0  \n",
              "...           ...  \n",
              "187718   187719.0  \n",
              "187840   187841.0  \n",
              "187931   187932.0  \n",
              "188195   188196.0  \n",
              "188448   188449.0  \n",
              "\n",
              "[702 rows x 12 columns]"
            ],
            "text/html": [
              "\n",
              "  <div id=\"df-5a8abbca-30d9-49ac-a420-4b8b1c7a1293\">\n",
              "    <div class=\"colab-df-container\">\n",
              "      <div>\n",
              "<style scoped>\n",
              "    .dataframe tbody tr th:only-of-type {\n",
              "        vertical-align: middle;\n",
              "    }\n",
              "\n",
              "    .dataframe tbody tr th {\n",
              "        vertical-align: top;\n",
              "    }\n",
              "\n",
              "    .dataframe thead th {\n",
              "        text-align: right;\n",
              "    }\n",
              "</style>\n",
              "<table border=\"1\" class=\"dataframe\">\n",
              "  <thead>\n",
              "    <tr style=\"text-align: right;\">\n",
              "      <th></th>\n",
              "      <th>session_id</th>\n",
              "      <th>user_account_uuid</th>\n",
              "      <th>session_started</th>\n",
              "      <th>session_ended</th>\n",
              "      <th>install_timestamp</th>\n",
              "      <th>sum_view_restaurant_screen</th>\n",
              "      <th>sum_view_dish_screen</th>\n",
              "      <th>sum_click_add_item</th>\n",
              "      <th>sum_view_checkout</th>\n",
              "      <th>sum_callback_purchase</th>\n",
              "      <th>available_restaurants</th>\n",
              "      <th>rownumber</th>\n",
              "    </tr>\n",
              "  </thead>\n",
              "  <tbody>\n",
              "    <tr>\n",
              "      <th>20</th>\n",
              "      <td>77b0e143-a9d3-4e02-bb17-f8bd9233aa0b</td>\n",
              "      <td>dd29f99e-e072-45f3-8731-3c2da182a18c</td>\n",
              "      <td>2020-02-01T00:01:45.519Z</td>\n",
              "      <td>2020-02-01T00:15:59.548Z</td>\n",
              "      <td>2020-02-01T00:01:45.000Z</td>\n",
              "      <td>1</td>\n",
              "      <td>2</td>\n",
              "      <td>2.0</td>\n",
              "      <td>6.0</td>\n",
              "      <td>8.0</td>\n",
              "      <td>615.0</td>\n",
              "      <td>21.0</td>\n",
              "    </tr>\n",
              "    <tr>\n",
              "      <th>709</th>\n",
              "      <td>5f92fd0f-10eb-465e-b42a-d443a2820d3e</td>\n",
              "      <td>11ac1f46-9691-4795-aa5a-57df3d01295d</td>\n",
              "      <td>2020-02-01T02:06:38.558Z</td>\n",
              "      <td>2020-02-01T03:23:01.484Z</td>\n",
              "      <td>2020-02-01T02:06:38.000Z</td>\n",
              "      <td>13</td>\n",
              "      <td>6</td>\n",
              "      <td>2.0</td>\n",
              "      <td>3.0</td>\n",
              "      <td>3.0</td>\n",
              "      <td>26.0</td>\n",
              "      <td>710.0</td>\n",
              "    </tr>\n",
              "    <tr>\n",
              "      <th>749</th>\n",
              "      <td>f3dc7ab3-4c76-4693-842b-19fa0c44267b</td>\n",
              "      <td>18b2b703-842d-4747-b360-54e219e9b7a2</td>\n",
              "      <td>2020-02-01T02:21:59.059Z</td>\n",
              "      <td>2020-02-01T02:35:30.772Z</td>\n",
              "      <td>2020-02-01T02:21:59.000Z</td>\n",
              "      <td>14</td>\n",
              "      <td>15</td>\n",
              "      <td>12.0</td>\n",
              "      <td>31.0</td>\n",
              "      <td>22.0</td>\n",
              "      <td>13.0</td>\n",
              "      <td>750.0</td>\n",
              "    </tr>\n",
              "    <tr>\n",
              "      <th>777</th>\n",
              "      <td>458bf927-e686-4637-b2da-1831563fb1fb</td>\n",
              "      <td>ba7f09e5-aebe-453a-ab34-9f4b3e9e56a9</td>\n",
              "      <td>2020-02-01T02:33:41.307Z</td>\n",
              "      <td>2020-02-01T02:41:47.214Z</td>\n",
              "      <td>2020-02-01T02:33:41.000Z</td>\n",
              "      <td>0</td>\n",
              "      <td>0</td>\n",
              "      <td>0.0</td>\n",
              "      <td>0.0</td>\n",
              "      <td>0.0</td>\n",
              "      <td>3.0</td>\n",
              "      <td>778.0</td>\n",
              "    </tr>\n",
              "    <tr>\n",
              "      <th>794</th>\n",
              "      <td>f53b26ee-bc89-4df2-95fc-31776b6cbd7a</td>\n",
              "      <td>0524e9d8-f8a1-48fc-a9be-2fc352fa730f</td>\n",
              "      <td>2020-02-01T02:42:26.581Z</td>\n",
              "      <td>2020-02-01T03:01:27.022Z</td>\n",
              "      <td>2020-02-01T02:42:26.000Z</td>\n",
              "      <td>2</td>\n",
              "      <td>1</td>\n",
              "      <td>1.0</td>\n",
              "      <td>1.0</td>\n",
              "      <td>0.0</td>\n",
              "      <td>128.0</td>\n",
              "      <td>795.0</td>\n",
              "    </tr>\n",
              "    <tr>\n",
              "      <th>...</th>\n",
              "      <td>...</td>\n",
              "      <td>...</td>\n",
              "      <td>...</td>\n",
              "      <td>...</td>\n",
              "      <td>...</td>\n",
              "      <td>...</td>\n",
              "      <td>...</td>\n",
              "      <td>...</td>\n",
              "      <td>...</td>\n",
              "      <td>...</td>\n",
              "      <td>...</td>\n",
              "      <td>...</td>\n",
              "    </tr>\n",
              "    <tr>\n",
              "      <th>187718</th>\n",
              "      <td>87e8a955-5f66-4b34-9be5-a0ca717e0904</td>\n",
              "      <td>32450a12-1b97-4ed3-98fb-dab274db9a81</td>\n",
              "      <td>2020-02-12T12:59:30.570Z</td>\n",
              "      <td>2020-02-12T13:08:56.900Z</td>\n",
              "      <td>2020-02-12T12:59:30.000Z</td>\n",
              "      <td>1</td>\n",
              "      <td>1</td>\n",
              "      <td>1.0</td>\n",
              "      <td>10.0</td>\n",
              "      <td>9.0</td>\n",
              "      <td>17.0</td>\n",
              "      <td>187719.0</td>\n",
              "    </tr>\n",
              "    <tr>\n",
              "      <th>187840</th>\n",
              "      <td>76ae4583-ba12-45e6-a531-a4e4cdeaf7ed</td>\n",
              "      <td>74dbb6bb-4636-4f05-9604-d3a05bde45f6</td>\n",
              "      <td>2020-02-12T13:05:33.143Z</td>\n",
              "      <td>2020-02-12T13:39:35.398Z</td>\n",
              "      <td>2020-02-12T13:05:33.000Z</td>\n",
              "      <td>28</td>\n",
              "      <td>15</td>\n",
              "      <td>10.0</td>\n",
              "      <td>8.0</td>\n",
              "      <td>21.0</td>\n",
              "      <td>224.0</td>\n",
              "      <td>187841.0</td>\n",
              "    </tr>\n",
              "    <tr>\n",
              "      <th>187931</th>\n",
              "      <td>33686a46-c66b-42da-9002-b7e62659adb1</td>\n",
              "      <td>5ee8868c-11f8-4287-ae18-47a12e621121</td>\n",
              "      <td>2020-02-12T13:10:34.105Z</td>\n",
              "      <td>2020-02-12T13:38:32.715Z</td>\n",
              "      <td>2020-02-12T13:10:34.000Z</td>\n",
              "      <td>4</td>\n",
              "      <td>1</td>\n",
              "      <td>0.0</td>\n",
              "      <td>0.0</td>\n",
              "      <td>0.0</td>\n",
              "      <td>2680.0</td>\n",
              "      <td>187932.0</td>\n",
              "    </tr>\n",
              "    <tr>\n",
              "      <th>188195</th>\n",
              "      <td>883b024f-f0cc-46e3-838b-666b28ff4c49</td>\n",
              "      <td>35553c9b-4da5-46d5-8b0e-5e363e341d39</td>\n",
              "      <td>2020-02-12T13:24:27.708Z</td>\n",
              "      <td>2020-02-12T13:50:03.769Z</td>\n",
              "      <td>2020-02-12T13:24:27.000Z</td>\n",
              "      <td>8</td>\n",
              "      <td>4</td>\n",
              "      <td>3.0</td>\n",
              "      <td>3.0</td>\n",
              "      <td>1.0</td>\n",
              "      <td>3198.0</td>\n",
              "      <td>188196.0</td>\n",
              "    </tr>\n",
              "    <tr>\n",
              "      <th>188448</th>\n",
              "      <td>10671e72-be22-4232-9b59-6d3a8d18a834</td>\n",
              "      <td>dee37062-8b23-4dd1-9f23-b83f9e27d2f4</td>\n",
              "      <td>2020-02-12T13:38:08.794Z</td>\n",
              "      <td>2020-02-12T13:48:38.747Z</td>\n",
              "      <td>2020-02-12T13:38:08.000Z</td>\n",
              "      <td>8</td>\n",
              "      <td>2</td>\n",
              "      <td>3.0</td>\n",
              "      <td>6.0</td>\n",
              "      <td>0.0</td>\n",
              "      <td>255.0</td>\n",
              "      <td>188449.0</td>\n",
              "    </tr>\n",
              "  </tbody>\n",
              "</table>\n",
              "<p>702 rows × 12 columns</p>\n",
              "</div>\n",
              "      <button class=\"colab-df-convert\" onclick=\"convertToInteractive('df-5a8abbca-30d9-49ac-a420-4b8b1c7a1293')\"\n",
              "              title=\"Convert this dataframe to an interactive table.\"\n",
              "              style=\"display:none;\">\n",
              "        \n",
              "  <svg xmlns=\"http://www.w3.org/2000/svg\" height=\"24px\"viewBox=\"0 0 24 24\"\n",
              "       width=\"24px\">\n",
              "    <path d=\"M0 0h24v24H0V0z\" fill=\"none\"/>\n",
              "    <path d=\"M18.56 5.44l.94 2.06.94-2.06 2.06-.94-2.06-.94-.94-2.06-.94 2.06-2.06.94zm-11 1L8.5 8.5l.94-2.06 2.06-.94-2.06-.94L8.5 2.5l-.94 2.06-2.06.94zm10 10l.94 2.06.94-2.06 2.06-.94-2.06-.94-.94-2.06-.94 2.06-2.06.94z\"/><path d=\"M17.41 7.96l-1.37-1.37c-.4-.4-.92-.59-1.43-.59-.52 0-1.04.2-1.43.59L10.3 9.45l-7.72 7.72c-.78.78-.78 2.05 0 2.83L4 21.41c.39.39.9.59 1.41.59.51 0 1.02-.2 1.41-.59l7.78-7.78 2.81-2.81c.8-.78.8-2.07 0-2.86zM5.41 20L4 18.59l7.72-7.72 1.47 1.35L5.41 20z\"/>\n",
              "  </svg>\n",
              "      </button>\n",
              "      \n",
              "  <style>\n",
              "    .colab-df-container {\n",
              "      display:flex;\n",
              "      flex-wrap:wrap;\n",
              "      gap: 12px;\n",
              "    }\n",
              "\n",
              "    .colab-df-convert {\n",
              "      background-color: #E8F0FE;\n",
              "      border: none;\n",
              "      border-radius: 50%;\n",
              "      cursor: pointer;\n",
              "      display: none;\n",
              "      fill: #1967D2;\n",
              "      height: 32px;\n",
              "      padding: 0 0 0 0;\n",
              "      width: 32px;\n",
              "    }\n",
              "\n",
              "    .colab-df-convert:hover {\n",
              "      background-color: #E2EBFA;\n",
              "      box-shadow: 0px 1px 2px rgba(60, 64, 67, 0.3), 0px 1px 3px 1px rgba(60, 64, 67, 0.15);\n",
              "      fill: #174EA6;\n",
              "    }\n",
              "\n",
              "    [theme=dark] .colab-df-convert {\n",
              "      background-color: #3B4455;\n",
              "      fill: #D2E3FC;\n",
              "    }\n",
              "\n",
              "    [theme=dark] .colab-df-convert:hover {\n",
              "      background-color: #434B5C;\n",
              "      box-shadow: 0px 1px 3px 1px rgba(0, 0, 0, 0.15);\n",
              "      filter: drop-shadow(0px 1px 2px rgba(0, 0, 0, 0.3));\n",
              "      fill: #FFFFFF;\n",
              "    }\n",
              "  </style>\n",
              "\n",
              "      <script>\n",
              "        const buttonEl =\n",
              "          document.querySelector('#df-5a8abbca-30d9-49ac-a420-4b8b1c7a1293 button.colab-df-convert');\n",
              "        buttonEl.style.display =\n",
              "          google.colab.kernel.accessAllowed ? 'block' : 'none';\n",
              "\n",
              "        async function convertToInteractive(key) {\n",
              "          const element = document.querySelector('#df-5a8abbca-30d9-49ac-a420-4b8b1c7a1293');\n",
              "          const dataTable =\n",
              "            await google.colab.kernel.invokeFunction('convertToInteractive',\n",
              "                                                     [key], {});\n",
              "          if (!dataTable) return;\n",
              "\n",
              "          const docLinkHtml = 'Like what you see? Visit the ' +\n",
              "            '<a target=\"_blank\" href=https://colab.research.google.com/notebooks/data_table.ipynb>data table notebook</a>'\n",
              "            + ' to learn more about interactive tables.';\n",
              "          element.innerHTML = '';\n",
              "          dataTable['output_type'] = 'display_data';\n",
              "          await google.colab.output.renderOutput(dataTable, element);\n",
              "          const docLink = document.createElement('div');\n",
              "          docLink.innerHTML = docLinkHtml;\n",
              "          element.appendChild(docLink);\n",
              "        }\n",
              "      </script>\n",
              "    </div>\n",
              "  </div>\n",
              "  "
            ]
          },
          "metadata": {},
          "execution_count": 11
        }
      ]
    },
    {
      "cell_type": "markdown",
      "source": [
        "## 2 -**Vou prosseguir com a análise exploratória com os datasets separados para retirar o máximo de insights possíveis. (EDA)**"
      ],
      "metadata": {
        "id": "Df06hCNV-TVQ"
      }
    },
    {
      "cell_type": "code",
      "source": [
        "#Observando melhor os datasets\n",
        "df_marketing.describe()"
      ],
      "metadata": {
        "colab": {
          "base_uri": "https://localhost:8080/",
          "height": 300
        },
        "id": "SkML-4X8tmy7",
        "outputId": "67f68846-8798-4f62-8a68-3094c0b44ffb"
      },
      "execution_count": 12,
      "outputs": [
        {
          "output_type": "execute_result",
          "data": {
            "text/plain": [
              "       total_order_count\n",
              "count       20248.000000\n",
              "mean          341.338058\n",
              "std           303.148108\n",
              "min             1.000000\n",
              "25%            91.000000\n",
              "50%           286.000000\n",
              "75%           501.000000\n",
              "max          3098.000000"
            ],
            "text/html": [
              "\n",
              "  <div id=\"df-c901cc94-99e0-4e41-9df3-ece032e1d565\">\n",
              "    <div class=\"colab-df-container\">\n",
              "      <div>\n",
              "<style scoped>\n",
              "    .dataframe tbody tr th:only-of-type {\n",
              "        vertical-align: middle;\n",
              "    }\n",
              "\n",
              "    .dataframe tbody tr th {\n",
              "        vertical-align: top;\n",
              "    }\n",
              "\n",
              "    .dataframe thead th {\n",
              "        text-align: right;\n",
              "    }\n",
              "</style>\n",
              "<table border=\"1\" class=\"dataframe\">\n",
              "  <thead>\n",
              "    <tr style=\"text-align: right;\">\n",
              "      <th></th>\n",
              "      <th>total_order_count</th>\n",
              "    </tr>\n",
              "  </thead>\n",
              "  <tbody>\n",
              "    <tr>\n",
              "      <th>count</th>\n",
              "      <td>20248.000000</td>\n",
              "    </tr>\n",
              "    <tr>\n",
              "      <th>mean</th>\n",
              "      <td>341.338058</td>\n",
              "    </tr>\n",
              "    <tr>\n",
              "      <th>std</th>\n",
              "      <td>303.148108</td>\n",
              "    </tr>\n",
              "    <tr>\n",
              "      <th>min</th>\n",
              "      <td>1.000000</td>\n",
              "    </tr>\n",
              "    <tr>\n",
              "      <th>25%</th>\n",
              "      <td>91.000000</td>\n",
              "    </tr>\n",
              "    <tr>\n",
              "      <th>50%</th>\n",
              "      <td>286.000000</td>\n",
              "    </tr>\n",
              "    <tr>\n",
              "      <th>75%</th>\n",
              "      <td>501.000000</td>\n",
              "    </tr>\n",
              "    <tr>\n",
              "      <th>max</th>\n",
              "      <td>3098.000000</td>\n",
              "    </tr>\n",
              "  </tbody>\n",
              "</table>\n",
              "</div>\n",
              "      <button class=\"colab-df-convert\" onclick=\"convertToInteractive('df-c901cc94-99e0-4e41-9df3-ece032e1d565')\"\n",
              "              title=\"Convert this dataframe to an interactive table.\"\n",
              "              style=\"display:none;\">\n",
              "        \n",
              "  <svg xmlns=\"http://www.w3.org/2000/svg\" height=\"24px\"viewBox=\"0 0 24 24\"\n",
              "       width=\"24px\">\n",
              "    <path d=\"M0 0h24v24H0V0z\" fill=\"none\"/>\n",
              "    <path d=\"M18.56 5.44l.94 2.06.94-2.06 2.06-.94-2.06-.94-.94-2.06-.94 2.06-2.06.94zm-11 1L8.5 8.5l.94-2.06 2.06-.94-2.06-.94L8.5 2.5l-.94 2.06-2.06.94zm10 10l.94 2.06.94-2.06 2.06-.94-2.06-.94-.94-2.06-.94 2.06-2.06.94z\"/><path d=\"M17.41 7.96l-1.37-1.37c-.4-.4-.92-.59-1.43-.59-.52 0-1.04.2-1.43.59L10.3 9.45l-7.72 7.72c-.78.78-.78 2.05 0 2.83L4 21.41c.39.39.9.59 1.41.59.51 0 1.02-.2 1.41-.59l7.78-7.78 2.81-2.81c.8-.78.8-2.07 0-2.86zM5.41 20L4 18.59l7.72-7.72 1.47 1.35L5.41 20z\"/>\n",
              "  </svg>\n",
              "      </button>\n",
              "      \n",
              "  <style>\n",
              "    .colab-df-container {\n",
              "      display:flex;\n",
              "      flex-wrap:wrap;\n",
              "      gap: 12px;\n",
              "    }\n",
              "\n",
              "    .colab-df-convert {\n",
              "      background-color: #E8F0FE;\n",
              "      border: none;\n",
              "      border-radius: 50%;\n",
              "      cursor: pointer;\n",
              "      display: none;\n",
              "      fill: #1967D2;\n",
              "      height: 32px;\n",
              "      padding: 0 0 0 0;\n",
              "      width: 32px;\n",
              "    }\n",
              "\n",
              "    .colab-df-convert:hover {\n",
              "      background-color: #E2EBFA;\n",
              "      box-shadow: 0px 1px 2px rgba(60, 64, 67, 0.3), 0px 1px 3px 1px rgba(60, 64, 67, 0.15);\n",
              "      fill: #174EA6;\n",
              "    }\n",
              "\n",
              "    [theme=dark] .colab-df-convert {\n",
              "      background-color: #3B4455;\n",
              "      fill: #D2E3FC;\n",
              "    }\n",
              "\n",
              "    [theme=dark] .colab-df-convert:hover {\n",
              "      background-color: #434B5C;\n",
              "      box-shadow: 0px 1px 3px 1px rgba(0, 0, 0, 0.15);\n",
              "      filter: drop-shadow(0px 1px 2px rgba(0, 0, 0, 0.3));\n",
              "      fill: #FFFFFF;\n",
              "    }\n",
              "  </style>\n",
              "\n",
              "      <script>\n",
              "        const buttonEl =\n",
              "          document.querySelector('#df-c901cc94-99e0-4e41-9df3-ece032e1d565 button.colab-df-convert');\n",
              "        buttonEl.style.display =\n",
              "          google.colab.kernel.accessAllowed ? 'block' : 'none';\n",
              "\n",
              "        async function convertToInteractive(key) {\n",
              "          const element = document.querySelector('#df-c901cc94-99e0-4e41-9df3-ece032e1d565');\n",
              "          const dataTable =\n",
              "            await google.colab.kernel.invokeFunction('convertToInteractive',\n",
              "                                                     [key], {});\n",
              "          if (!dataTable) return;\n",
              "\n",
              "          const docLinkHtml = 'Like what you see? Visit the ' +\n",
              "            '<a target=\"_blank\" href=https://colab.research.google.com/notebooks/data_table.ipynb>data table notebook</a>'\n",
              "            + ' to learn more about interactive tables.';\n",
              "          element.innerHTML = '';\n",
              "          dataTable['output_type'] = 'display_data';\n",
              "          await google.colab.output.renderOutput(dataTable, element);\n",
              "          const docLink = document.createElement('div');\n",
              "          docLink.innerHTML = docLinkHtml;\n",
              "          element.appendChild(docLink);\n",
              "        }\n",
              "      </script>\n",
              "    </div>\n",
              "  </div>\n",
              "  "
            ]
          },
          "metadata": {},
          "execution_count": 12
        }
      ]
    },
    {
      "cell_type": "code",
      "source": [
        "#Convertendo data de cadastro para tempo de uso da plataforma\n",
        "df_marketing['registration_date'] = pd.to_datetime(df_marketing['registration_date'], format = '%Y-%m-%d')\n",
        "\n",
        "def calculate_cadastro(born):\n",
        "    today = date.today()\n",
        "    return today.year - born.year - ((today.month, today.day) < (born.month, born.day))\n",
        "\n",
        "df_marketing['Tempo_de_cadastro'] = df_marketing['registration_date'].apply(calculate_cadastro)"
      ],
      "metadata": {
        "id": "U69jq_JRU49a"
      },
      "execution_count": 13,
      "outputs": []
    },
    {
      "cell_type": "code",
      "source": [
        "#Visualizando nosso dataset de marketing\n",
        "df_marketing.head()"
      ],
      "metadata": {
        "colab": {
          "base_uri": "https://localhost:8080/",
          "height": 337
        },
        "id": "-zm-OwyNVad6",
        "outputId": "221c43cc-2496-4c8d-ef30-1bd3d2f34c54"
      },
      "execution_count": 14,
      "outputs": [
        {
          "output_type": "execute_result",
          "data": {
            "text/plain": [
              "                             account_id registration_date ifood_status  \\\n",
              "0  7c0450e7-a806-4208-8449-e4269a27e6b5        2020-02-02     Inactive   \n",
              "1  16d0afba-00b8-427a-ba1f-2e397a9fbb54        2016-05-17        Churn   \n",
              "2  61c051ee-d37c-45c6-8c22-c236db3b62b7        2018-09-02       Active   \n",
              "3  82e48692-e4fa-494e-b03e-6815a819b7b1        2017-11-10  Reactivated   \n",
              "4  382af025-14c8-4ba9-b62f-deddd6f25789        2019-08-05     Inactive   \n",
              "\n",
              "  ifood_status_last_month  total_order_count first_order_date  \\\n",
              "0                Inactive                  8       2020-02-28   \n",
              "1                  Active                457       2017-03-19   \n",
              "2                  Active                206       2018-09-02   \n",
              "3                   Churn                 47       2018-05-01   \n",
              "4                Inactive                 66       2019-08-12   \n",
              "\n",
              "   Tempo_de_cadastro  \n",
              "0                  2  \n",
              "1                  6  \n",
              "2                  4  \n",
              "3                  4  \n",
              "4                  3  "
            ],
            "text/html": [
              "\n",
              "  <div id=\"df-3522ca7a-1814-4a2f-9a1e-4b4fa7fd48fb\">\n",
              "    <div class=\"colab-df-container\">\n",
              "      <div>\n",
              "<style scoped>\n",
              "    .dataframe tbody tr th:only-of-type {\n",
              "        vertical-align: middle;\n",
              "    }\n",
              "\n",
              "    .dataframe tbody tr th {\n",
              "        vertical-align: top;\n",
              "    }\n",
              "\n",
              "    .dataframe thead th {\n",
              "        text-align: right;\n",
              "    }\n",
              "</style>\n",
              "<table border=\"1\" class=\"dataframe\">\n",
              "  <thead>\n",
              "    <tr style=\"text-align: right;\">\n",
              "      <th></th>\n",
              "      <th>account_id</th>\n",
              "      <th>registration_date</th>\n",
              "      <th>ifood_status</th>\n",
              "      <th>ifood_status_last_month</th>\n",
              "      <th>total_order_count</th>\n",
              "      <th>first_order_date</th>\n",
              "      <th>Tempo_de_cadastro</th>\n",
              "    </tr>\n",
              "  </thead>\n",
              "  <tbody>\n",
              "    <tr>\n",
              "      <th>0</th>\n",
              "      <td>7c0450e7-a806-4208-8449-e4269a27e6b5</td>\n",
              "      <td>2020-02-02</td>\n",
              "      <td>Inactive</td>\n",
              "      <td>Inactive</td>\n",
              "      <td>8</td>\n",
              "      <td>2020-02-28</td>\n",
              "      <td>2</td>\n",
              "    </tr>\n",
              "    <tr>\n",
              "      <th>1</th>\n",
              "      <td>16d0afba-00b8-427a-ba1f-2e397a9fbb54</td>\n",
              "      <td>2016-05-17</td>\n",
              "      <td>Churn</td>\n",
              "      <td>Active</td>\n",
              "      <td>457</td>\n",
              "      <td>2017-03-19</td>\n",
              "      <td>6</td>\n",
              "    </tr>\n",
              "    <tr>\n",
              "      <th>2</th>\n",
              "      <td>61c051ee-d37c-45c6-8c22-c236db3b62b7</td>\n",
              "      <td>2018-09-02</td>\n",
              "      <td>Active</td>\n",
              "      <td>Active</td>\n",
              "      <td>206</td>\n",
              "      <td>2018-09-02</td>\n",
              "      <td>4</td>\n",
              "    </tr>\n",
              "    <tr>\n",
              "      <th>3</th>\n",
              "      <td>82e48692-e4fa-494e-b03e-6815a819b7b1</td>\n",
              "      <td>2017-11-10</td>\n",
              "      <td>Reactivated</td>\n",
              "      <td>Churn</td>\n",
              "      <td>47</td>\n",
              "      <td>2018-05-01</td>\n",
              "      <td>4</td>\n",
              "    </tr>\n",
              "    <tr>\n",
              "      <th>4</th>\n",
              "      <td>382af025-14c8-4ba9-b62f-deddd6f25789</td>\n",
              "      <td>2019-08-05</td>\n",
              "      <td>Inactive</td>\n",
              "      <td>Inactive</td>\n",
              "      <td>66</td>\n",
              "      <td>2019-08-12</td>\n",
              "      <td>3</td>\n",
              "    </tr>\n",
              "  </tbody>\n",
              "</table>\n",
              "</div>\n",
              "      <button class=\"colab-df-convert\" onclick=\"convertToInteractive('df-3522ca7a-1814-4a2f-9a1e-4b4fa7fd48fb')\"\n",
              "              title=\"Convert this dataframe to an interactive table.\"\n",
              "              style=\"display:none;\">\n",
              "        \n",
              "  <svg xmlns=\"http://www.w3.org/2000/svg\" height=\"24px\"viewBox=\"0 0 24 24\"\n",
              "       width=\"24px\">\n",
              "    <path d=\"M0 0h24v24H0V0z\" fill=\"none\"/>\n",
              "    <path d=\"M18.56 5.44l.94 2.06.94-2.06 2.06-.94-2.06-.94-.94-2.06-.94 2.06-2.06.94zm-11 1L8.5 8.5l.94-2.06 2.06-.94-2.06-.94L8.5 2.5l-.94 2.06-2.06.94zm10 10l.94 2.06.94-2.06 2.06-.94-2.06-.94-.94-2.06-.94 2.06-2.06.94z\"/><path d=\"M17.41 7.96l-1.37-1.37c-.4-.4-.92-.59-1.43-.59-.52 0-1.04.2-1.43.59L10.3 9.45l-7.72 7.72c-.78.78-.78 2.05 0 2.83L4 21.41c.39.39.9.59 1.41.59.51 0 1.02-.2 1.41-.59l7.78-7.78 2.81-2.81c.8-.78.8-2.07 0-2.86zM5.41 20L4 18.59l7.72-7.72 1.47 1.35L5.41 20z\"/>\n",
              "  </svg>\n",
              "      </button>\n",
              "      \n",
              "  <style>\n",
              "    .colab-df-container {\n",
              "      display:flex;\n",
              "      flex-wrap:wrap;\n",
              "      gap: 12px;\n",
              "    }\n",
              "\n",
              "    .colab-df-convert {\n",
              "      background-color: #E8F0FE;\n",
              "      border: none;\n",
              "      border-radius: 50%;\n",
              "      cursor: pointer;\n",
              "      display: none;\n",
              "      fill: #1967D2;\n",
              "      height: 32px;\n",
              "      padding: 0 0 0 0;\n",
              "      width: 32px;\n",
              "    }\n",
              "\n",
              "    .colab-df-convert:hover {\n",
              "      background-color: #E2EBFA;\n",
              "      box-shadow: 0px 1px 2px rgba(60, 64, 67, 0.3), 0px 1px 3px 1px rgba(60, 64, 67, 0.15);\n",
              "      fill: #174EA6;\n",
              "    }\n",
              "\n",
              "    [theme=dark] .colab-df-convert {\n",
              "      background-color: #3B4455;\n",
              "      fill: #D2E3FC;\n",
              "    }\n",
              "\n",
              "    [theme=dark] .colab-df-convert:hover {\n",
              "      background-color: #434B5C;\n",
              "      box-shadow: 0px 1px 3px 1px rgba(0, 0, 0, 0.15);\n",
              "      filter: drop-shadow(0px 1px 2px rgba(0, 0, 0, 0.3));\n",
              "      fill: #FFFFFF;\n",
              "    }\n",
              "  </style>\n",
              "\n",
              "      <script>\n",
              "        const buttonEl =\n",
              "          document.querySelector('#df-3522ca7a-1814-4a2f-9a1e-4b4fa7fd48fb button.colab-df-convert');\n",
              "        buttonEl.style.display =\n",
              "          google.colab.kernel.accessAllowed ? 'block' : 'none';\n",
              "\n",
              "        async function convertToInteractive(key) {\n",
              "          const element = document.querySelector('#df-3522ca7a-1814-4a2f-9a1e-4b4fa7fd48fb');\n",
              "          const dataTable =\n",
              "            await google.colab.kernel.invokeFunction('convertToInteractive',\n",
              "                                                     [key], {});\n",
              "          if (!dataTable) return;\n",
              "\n",
              "          const docLinkHtml = 'Like what you see? Visit the ' +\n",
              "            '<a target=\"_blank\" href=https://colab.research.google.com/notebooks/data_table.ipynb>data table notebook</a>'\n",
              "            + ' to learn more about interactive tables.';\n",
              "          element.innerHTML = '';\n",
              "          dataTable['output_type'] = 'display_data';\n",
              "          await google.colab.output.renderOutput(dataTable, element);\n",
              "          const docLink = document.createElement('div');\n",
              "          docLink.innerHTML = docLinkHtml;\n",
              "          element.appendChild(docLink);\n",
              "        }\n",
              "      </script>\n",
              "    </div>\n",
              "  </div>\n",
              "  "
            ]
          },
          "metadata": {},
          "execution_count": 14
        }
      ]
    },
    {
      "cell_type": "code",
      "source": [
        "#Estudando a nova variável criada\n",
        "df_marketing[\"Tempo_de_cadastro\"].value_counts()"
      ],
      "metadata": {
        "colab": {
          "base_uri": "https://localhost:8080/"
        },
        "id": "KG3KGPD6WvBQ",
        "outputId": "d3273670-a255-44a0-a872-1b19713ba76e"
      },
      "execution_count": 15,
      "outputs": [
        {
          "output_type": "execute_result",
          "data": {
            "text/plain": [
              "3     3993\n",
              "4     3110\n",
              "5     2950\n",
              "6     2859\n",
              "7     2810\n",
              "2     1612\n",
              "8     1426\n",
              "9      834\n",
              "10     353\n",
              "11     173\n",
              "12     128\n",
              "Name: Tempo_de_cadastro, dtype: int64"
            ]
          },
          "metadata": {},
          "execution_count": 15
        }
      ]
    },
    {
      "cell_type": "markdown",
      "source": [
        "Aqui vale a ressalva que a base de dados é formada por  clientes mais estáveis. Independente de serem churn ou não eles utilizaram por um bom tempo a plataforma IFOOD. Notamos também que o pico de cadastro ocorreu no ano de 2019 e foi muito afetado em 2020, provavelmente pela pandemia"
      ],
      "metadata": {
        "id": "AbqNFax3W7zm"
      }
    },
    {
      "cell_type": "code",
      "source": [
        "#Observando onde são feitos os pedidos\n",
        "x = df_orders[\"device_platform\"].value_counts()"
      ],
      "metadata": {
        "id": "g06oeJxf0v8h"
      },
      "execution_count": 16,
      "outputs": []
    },
    {
      "cell_type": "code",
      "source": [
        "df_orders[\"device_platform\"].value_counts()"
      ],
      "metadata": {
        "colab": {
          "base_uri": "https://localhost:8080/"
        },
        "id": "kICF6on11PEY",
        "outputId": "95552630-3f0f-494a-af4a-faa4e48b689b"
      },
      "execution_count": 17,
      "outputs": [
        {
          "output_type": "execute_result",
          "data": {
            "text/plain": [
              "ANDROID    117953\n",
              "IOS         84987\n",
              "DESKTOP     18693\n",
              "Name: device_platform, dtype: int64"
            ]
          },
          "metadata": {},
          "execution_count": 17
        }
      ]
    },
    {
      "cell_type": "code",
      "source": [
        "#Plotando o gráfico para observar a diferença da origem dos pedidos\n",
        "x.hist()"
      ],
      "metadata": {
        "colab": {
          "base_uri": "https://localhost:8080/",
          "height": 283
        },
        "id": "I6OjqBE81AeV",
        "outputId": "ee1aea3f-424b-457c-b930-bbe0a08b6783"
      },
      "execution_count": 18,
      "outputs": [
        {
          "output_type": "execute_result",
          "data": {
            "text/plain": [
              "<matplotlib.axes._subplots.AxesSubplot at 0x7fd65f314810>"
            ]
          },
          "metadata": {},
          "execution_count": 18
        },
        {
          "output_type": "display_data",
          "data": {
            "text/plain": [
              "<Figure size 432x288 with 1 Axes>"
            ],
            "image/png": "[encoded data removed]"
          },
          "metadata": {
            "needs_background": "light"
          }
        }
      ]
    },
    {
      "cell_type": "markdown",
      "source": [
        "Como esperado, a grande maioria é feito através de smarthphones, tendo uma diferença considerável entre IOS e Android. Aja visto que no mercado os aparelhos da Apple costumam ser mais caros, vamos observar isso mais de perto para ver se há uma diferença considerável entre os preços dos pedidos feitos pelo IOS e pelo Android"
      ],
      "metadata": {
        "id": "F1LRBxtD1ZSy"
      }
    },
    {
      "cell_type": "code",
      "source": [
        "#Observando a média do valor dos pedidos\n",
        "y = df_orders[\"total_amount\"].mean()"
      ],
      "metadata": {
        "id": "0ZpQrG4U2wAD"
      },
      "execution_count": 19,
      "outputs": []
    },
    {
      "cell_type": "code",
      "source": [
        "#Vamos checar de onde parte pedidos acima da média\n",
        "z = df_orders[df_orders[\"total_amount\"] > y]\n"
      ],
      "metadata": {
        "id": "ZmbZzVtN5apS"
      },
      "execution_count": 20,
      "outputs": []
    },
    {
      "cell_type": "code",
      "source": [
        "#Por fim, relação entre pedidos acima da média e suas respectivas origens\n",
        "z['device_platform'].value_counts()"
      ],
      "metadata": {
        "colab": {
          "base_uri": "https://localhost:8080/"
        },
        "id": "XcrRspiv6FD6",
        "outputId": "5e4cf5c5-8cd5-4c3b-acc8-42262a1fe684"
      },
      "execution_count": 21,
      "outputs": [
        {
          "output_type": "execute_result",
          "data": {
            "text/plain": [
              "IOS        40531\n",
              "ANDROID    37792\n",
              "DESKTOP      887\n",
              "Name: device_platform, dtype: int64"
            ]
          },
          "metadata": {},
          "execution_count": 21
        }
      ]
    },
    {
      "cell_type": "markdown",
      "source": [
        "Não encontramos correlação aparente, o que nos leva a crer que as compras de Iphone e de Androids possuem aproximadamente mesmo valor, portanto o foco do Ifood ainda pode continuar sendo o serviço mobile de forma geral sem distinção financeira aparente entre os modelos"
      ],
      "metadata": {
        "id": "f7WFHJsc6VSj"
      }
    },
    {
      "cell_type": "code",
      "source": [
        "for column in df_marketing:\n",
        "  plt.figure(column, figsize=(5,5))\n",
        "  plt.title(column)\n",
        "  if is_numeric_dtype(df_marketing[column]):\n",
        "    df_marketing[column].plot( kind = 'hist')\n",
        "  elif is_string_dtype(df_marketing[column]):\n",
        "    df_marketing[column].value_counts()[:10].plot(kind = 'bar')"
      ],
      "metadata": {
        "colab": {
          "base_uri": "https://localhost:8080/",
          "height": 1000
        },
        "id": "a8c2E6kZZ_Qy",
        "outputId": "ccee5e94-1294-4961-c4f0-6bd20242cbaf"
      },
      "execution_count": 24,
      "outputs": [
        {
          "output_type": "display_data",
          "data": {
            "text/plain": [
              "<Figure size 360x360 with 1 Axes>"
            ],
            "image/png": "[encoded data removed]"
          },
          "metadata": {
            "needs_background": "light"
          }
        },
        {
          "output_type": "display_data",
          "data": {
            "text/plain": [
              "<Figure size 360x360 with 1 Axes>"
            ],
            "image/png": "[encoded data removed]"
          },
          "metadata": {
            "needs_background": "light"
          }
        },
        {
          "output_type": "display_data",
          "data": {
            "text/plain": [
              "<Figure size 360x360 with 1 Axes>"
            ],
            "image/png": "[encoded data removed]"
          },
          "metadata": {
            "needs_background": "light"
          }
        },
        {
          "output_type": "display_data",
          "data": {
            "text/plain": [
              "<Figure size 360x360 with 1 Axes>"
            ],
            "image/png": "[encoded data removed]"
          },
          "metadata": {
            "needs_background": "light"
          }
        },
        {
          "output_type": "display_data",
          "data": {
            "text/plain": [
              "<Figure size 360x360 with 1 Axes>"
            ],
            "image/png": "[encoded data removed]"
          },
          "metadata": {
            "needs_background": "light"
          }
        },
        {
          "output_type": "display_data",
          "data": {
            "text/plain": [
              "<Figure size 360x360 with 1 Axes>"
            ],
            "image/png": "[encoded data removed]"
          },
          "metadata": {
            "needs_background": "light"
          }
        },
        {
          "output_type": "display_data",
          "data": {
            "text/plain": [
              "<Figure size 360x360 with 1 Axes>"
            ],
            "image/png": "[encoded data removed]"
          },
          "metadata": {
            "needs_background": "light"
          }
        }
      ]
    },
    {
      "cell_type": "markdown",
      "source": [
        "O gráfico do tempo de cadastro nos indica que o pico ocorreu aproximadamente em 2019, o que nos mostra que a plataforma estava em ascensão e obteve certo pico local de novos cadastros. A queda repentina em 2020 pode se dar muito pelo período de pandemia. Notamos também que os clientes churn caíram ao longo do tempo, tendo recentemente um número baixo, o que nos indica que os clientes estão comprando bem e se estabilizando na plataforma"
      ],
      "metadata": {
        "id": "l-edsTuGsH_c"
      }
    },
    {
      "cell_type": "code",
      "source": [
        "df_orders.columns"
      ],
      "metadata": {
        "colab": {
          "base_uri": "https://localhost:8080/"
        },
        "id": "XrnCpOE52oRg",
        "outputId": "451ce6e0-bfa1-4216-ca06-4fe5daf4abcf"
      },
      "execution_count": null,
      "outputs": [
        {
          "output_type": "execute_result",
          "data": {
            "text/plain": [
              "Index(['order_id', 'order_shift', 'order_origin', 'delivery_fee', 'scheduled',\n",
              "       'total_amount', 'subsidy_amount', 'device_platform', 'device_type',\n",
              "       'device_app_version', 'centroid_id', 'state_label', 'city', 'district',\n",
              "       'customer_long', 'customer_lat', 'restaurant_id', 'dish_type',\n",
              "       'group_id', 'merchant_centroid_id', 'merchant_state', 'merchant_city',\n",
              "       'merchant_district', 'merchant_zipcode', 'merchant_long',\n",
              "       'merchant_lat', 'has_free_delivery', 'confirmed_date', 'concluded_date',\n",
              "       'lag_last_order', 'account_id', 'review_score', 'nps_score',\n",
              "       'review_created_at'],\n",
              "      dtype='object')"
            ]
          },
          "metadata": {},
          "execution_count": 38
        }
      ]
    },
    {
      "cell_type": "code",
      "source": [
        "#Pegando uma parte do dataset de orders por ser muito grande\n",
        "df_orders = df_orders.sample(n=1000)"
      ],
      "metadata": {
        "id": "Ic_TPwOP54d1"
      },
      "execution_count": null,
      "outputs": []
    },
    {
      "cell_type": "code",
      "source": [
        "#Fazendo uma matriz das correlações no dataset de orders\n",
        "plt.figure(figsize=(25,14))\n",
        "plt.title('Correlation of Features', size = 30)\n",
        "colormap = sns.diverging_palette(10, 220, as_cmap = True)\n",
        "\n",
        "# Não duplicar as infos no gráfico\n",
        "mask = np.triu(np.ones_like(df_orders.corr(), dtype=bool))\n",
        "\n",
        "sns.heatmap(df_orders.corr(),\n",
        "            cmap = colormap,\n",
        "            square = True,\n",
        "            annot = True,\n",
        "            mask=mask,\n",
        "            linewidths=0.1,vmax=1.0, linecolor='white',\n",
        "            annot_kws={'fontsize':15 })\n",
        "plt.show()"
      ],
      "metadata": {
        "colab": {
          "base_uri": "https://localhost:8080/",
          "height": 919
        },
        "id": "wKLtY50otSF3",
        "outputId": "575f5113-549c-476e-d4e2-4c337cf7bd3a"
      },
      "execution_count": null,
      "outputs": [
        {
          "output_type": "display_data",
          "data": {
            "text/plain": [
              "<Figure size 1800x1008 with 2 Axes>"
            ],
            "image/png": "[encoded data removed]"
          },
          "metadata": {
            "needs_background": "light"
          }
        }
      ]
    },
    {
      "cell_type": "markdown",
      "source": [
        "Aqui temos uma boa correlação do \"delivery_fee\" com \"total_amount\", o que nos da a ideia de dar cortesias para quem faz pedidos maiores, dentre elas o desconto na taxa de entrega. Vale ressaltar que aqui observamos que não há correlação entre taxa de entrega grátis(has_free_delivery) e o valor do pedido, o que pode nos indicar que os restaurantes que possuem esse benefício podem não ser os da preferência do cliente (situação atual). E se começar a dar isso aos restaurantes de preferência dos clientes, os pedidos poderiam aumentar a frequência."
      ],
      "metadata": {
        "id": "fARmtujEw9ab"
      }
    },
    {
      "cell_type": "code",
      "source": [
        "# Criando a feature do valor final total do pedido\n",
        "\n",
        "df_orders['final_amount'] = df_orders['total_amount'] + df_orders['subsidy_amount']"
      ],
      "metadata": {
        "id": "kGK6LC2p7sGF"
      },
      "execution_count": null,
      "outputs": []
    },
    {
      "cell_type": "code",
      "source": [
        "#Fazendo uma matriz das correlações no dataset de orders novamente\n",
        "plt.figure(figsize=(25,14))\n",
        "plt.title('Correlation of Features', size = 30)\n",
        "colormap = sns.diverging_palette(10, 220, as_cmap = True)\n",
        "\n",
        "# Não duplicar as infos no gráfico\n",
        "mask = np.triu(np.ones_like(df_orders.corr(), dtype=bool))\n",
        "\n",
        "sns.heatmap(df_orders.corr(),\n",
        "            cmap = colormap,\n",
        "            square = True,\n",
        "            annot = True,\n",
        "            mask=mask,\n",
        "            linewidths=0.1,vmax=1.0, linecolor='white',\n",
        "            annot_kws={'fontsize':15 })\n",
        "plt.show()"
      ],
      "metadata": {
        "colab": {
          "base_uri": "https://localhost:8080/",
          "height": 919
        },
        "id": "92i7rSSL7xGh",
        "outputId": "ccde4ade-2fc3-42df-decf-5a898b5b2c77"
      },
      "execution_count": null,
      "outputs": [
        {
          "output_type": "display_data",
          "data": {
            "text/plain": [
              "<Figure size 1800x1008 with 2 Axes>"
            ],
            "image/png": "[encoded data removed]"
          },
          "metadata": {
            "needs_background": "light"
          }
        }
      ]
    },
    {
      "cell_type": "markdown",
      "source": [
        "Aqui analisamos uma certa correlação entre as variáveis \"lag_last_order\" -diferença de dias entre o pedido atual e o último-  e \"final_amount\" -valor final da compra-, possivelmente indicando que os clientes da plataforma costumam ser fiéis ao produto."
      ],
      "metadata": {
        "id": "_3v8b4W38NRo"
      }
    },
    {
      "cell_type": "code",
      "source": [
        "#Analisando localidades com mais pedidos\n",
        "df_orders['merchant_city'].value_counts()"
      ],
      "metadata": {
        "colab": {
          "base_uri": "https://localhost:8080/"
        },
        "id": "NAjAwM9N8y2y",
        "outputId": "27d1a8df-1bcf-4386-ea3e-198a67a3c698"
      },
      "execution_count": null,
      "outputs": [
        {
          "output_type": "execute_result",
          "data": {
            "text/plain": [
              "SAO PAULO                512\n",
              "RIO DE JANEIRO           288\n",
              "CURITIBA                  75\n",
              "SANTO ANDRE               12\n",
              "NITEROI                    7\n",
              "CAMPINAS                   7\n",
              "OSASCO                     7\n",
              "GUARULHOS                  7\n",
              "BRASILIA                   6\n",
              "PORTO ALEGRE               4\n",
              "BARUERI                    4\n",
              "ARACAJU                    4\n",
              "CARAPICUIBA                4\n",
              "SAO CAETANO DO SUL         3\n",
              "RECIFE                     3\n",
              "EMBU DAS ARTES             3\n",
              "SANTOS                     2\n",
              "NILOPOLIS                  2\n",
              "TABOAO DA SERRA            2\n",
              "SAO BERNARDO DO CAMPO      2\n",
              "POA                        2\n",
              "BAURU                      2\n",
              "RIO CLARO                  2\n",
              "COLOMBO                    2\n",
              "NOVA IGUACU                2\n",
              "JOAO PESSOA                2\n",
              "MACEIO                     2\n",
              "VITORIA DA CONQUISTA       2\n",
              "INDAIATUBA                 1\n",
              "PORTO VELHO                1\n",
              "COTIA                      1\n",
              "AMERICANA                  1\n",
              "JUNDIAI                    1\n",
              "CASCAVEL                   1\n",
              "MOGI GUACU                 1\n",
              "PINHAIS                    1\n",
              "SAO LUIS                   1\n",
              "SOROCABA                   1\n",
              "UBERLANDIA                 1\n",
              "DIADEMA                    1\n",
              "BELEM                      1\n",
              "BOTUCATU                   1\n",
              "SAO VICENTE                1\n",
              "JUAZEIRO DO NORTE          1\n",
              "MACAE                      1\n",
              "RIBEIRAO PRETO             1\n",
              "CONTAGEM                   1\n",
              "ITAPEVI                    1\n",
              "IPATINGA                   1\n",
              "PRAIA GRANDE               1\n",
              "FLORIANOPOLIS              1\n",
              "SALVADOR                   1\n",
              "BELO HORIZONTE             1\n",
              "CAMPO GRANDE               1\n",
              "SAO JOSE DOS CAMPOS        1\n",
              "FORTALEZA                  1\n",
              "UBATUBA                    1\n",
              "CAMPOS DOS GOYTACAZES      1\n",
              "Name: merchant_city, dtype: int64"
            ]
          },
          "metadata": {},
          "execution_count": 43
        }
      ]
    },
    {
      "cell_type": "code",
      "source": [
        "#Aja visto que SP tem uma liderança folgada dos pedidos nacionais, vamos analisar melhor no gráfico\n",
        "\n",
        "sns.countplot(data = df_orders,\n",
        "              x = 'state_label');"
      ],
      "metadata": {
        "colab": {
          "base_uri": "https://localhost:8080/",
          "height": 280
        },
        "id": "HsQfyPBE-obX",
        "outputId": "588959bd-9dfd-438d-9cd1-d63ad997eb8a"
      },
      "execution_count": null,
      "outputs": [
        {
          "output_type": "display_data",
          "data": {
            "text/plain": [
              "<Figure size 432x288 with 1 Axes>"
            ],
            "image/png": "[encoded data removed]"
          },
          "metadata": {
            "needs_background": "light"
          }
        }
      ]
    },
    {
      "cell_type": "code",
      "source": [
        "#Separando a latitude e longitude\n",
        "df2 = df_orders.iloc[:,24:26 ]"
      ],
      "metadata": {
        "id": "nH0jZ_4Cti6G"
      },
      "execution_count": 6,
      "outputs": []
    },
    {
      "cell_type": "code",
      "source": [
        "#plotando o gráfico da longitude pela latitude\n",
        "plt.figure(figsize=(10,5))\n",
        "plt.scatter(df2['merchant_long'].values,\n",
        "            df2['merchant_lat'].values,\n",
        "            s=5, c='blue')"
      ],
      "metadata": {
        "colab": {
          "base_uri": "https://localhost:8080/",
          "height": 338
        },
        "id": "lRehyjteukPz",
        "outputId": "df959c0e-7d0a-4bd6-a163-0e9d2f9913c3"
      },
      "execution_count": 7,
      "outputs": [
        {
          "output_type": "execute_result",
          "data": {
            "text/plain": [
              "<matplotlib.collections.PathCollection at 0x7f51778cead0>"
            ]
          },
          "metadata": {},
          "execution_count": 7
        },
        {
          "output_type": "display_data",
          "data": {
            "text/plain": [
              "<Figure size 720x360 with 1 Axes>"
            ],
            "image/png": "[encoded data removed]"
          },
          "metadata": {
            "needs_background": "light"
          }
        }
      ]
    },
    {
      "cell_type": "markdown",
      "source": [
        "Este gráfico plotado pode ajudar na geolocalização dos pedidos, afinal os mesmos apresentam um cluster bem significativo no intervalo -60 até -40, provavelmente uma região mais central de SP"
      ],
      "metadata": {
        "id": "mJC_dyFxKJfu"
      }
    },
    {
      "cell_type": "markdown",
      "source": [
        "## **3 - Ajustando o dataset com as transformações numéricas**"
      ],
      "metadata": {
        "id": "fUxhRNJF_cqX"
      }
    },
    {
      "cell_type": "code",
      "source": [
        "#Pegando uma parte do dataframe de orders pois o mesmo é muito grande\n",
        "df_orders = df_orders.sample(frac=0.3)"
      ],
      "metadata": {
        "id": "FCUKqOSelNjS"
      },
      "execution_count": null,
      "outputs": []
    },
    {
      "cell_type": "code",
      "source": [
        "df_orders.head()"
      ],
      "metadata": {
        "colab": {
          "base_uri": "https://localhost:8080/",
          "height": 560
        },
        "id": "v4KekWGRSRI4",
        "outputId": "7935bd00-9b80-4670-aaf6-52718ca0306c"
      },
      "execution_count": null,
      "outputs": [
        {
          "output_type": "execute_result",
          "data": {
            "text/plain": [
              "                                    order_id     order_shift order_origin  \\\n",
              "205174  24d1a821-4dec-4e4a-be4c-12e2e064086a   weekend snack   RESTAURANT   \n",
              "162363  51c1505a-ef36-43b5-bb03-0c9ec6972feb  weekday dinner   RESTAURANT   \n",
              "74365   c2d43ce2-6f92-4e77-bfd6-609cb73e106c  weekend dinner   RESTAURANT   \n",
              "97229   d2fc2179-bf7b-4a96-9b41-6b068d1e1634   weekday lunch   RESTAURANT   \n",
              "138302  30afb1cb-cd84-4ad6-8731-82225b4b1404  weekday dinner   RESTAURANT   \n",
              "\n",
              "        delivery_fee  scheduled  total_amount  subsidy_amount device_platform  \\\n",
              "205174       0.00000      False    3975.00000       623.75000             IOS   \n",
              "162363     750.00000      False    4500.00000         0.00000             IOS   \n",
              "74365      998.75000      False   12123.75000         0.00000             IOS   \n",
              "97229      625.00000      False    3125.00000         0.00000         ANDROID   \n",
              "138302    1498.75000      False    7742.50000         0.00000             IOS   \n",
              "\n",
              "       device_type device_app_version  ... merchant_lat has_free_delivery  \\\n",
              "205174      MOBILE             9.57.0  ...    -25.44000              True   \n",
              "162363      MOBILE             9.57.0  ...    -21.78000             False   \n",
              "74365       MOBILE             9.41.0  ...    -22.99000             False   \n",
              "97229       MOBILE             9.37.0  ...    -22.90000             False   \n",
              "138302      MOBILE             9.49.0  ...    -22.92000             False   \n",
              "\n",
              "                  confirmed_date            concluded_date  lag_last_order  \\\n",
              "205174  2020-08-01T15:47:50.815Z  2020-08-01T16:08:00.784Z         2.00000   \n",
              "162363  2020-07-22T20:53:07.729Z  2020-07-23T00:53:07.318Z         2.00000   \n",
              "74365   2020-03-14T20:26:49.127Z  2020-03-14T20:48:38.348Z         0.00000   \n",
              "97229   2020-02-07T12:40:12.834Z  2020-02-07T14:40:17.092Z         9.00000   \n",
              "138302  2020-05-06T22:34:01.365Z  2020-05-06T23:19:58.737Z         0.00000   \n",
              "\n",
              "                                  account_id review_score nps_score  \\\n",
              "205174  43a243bc-034a-4cff-ab9b-46deb7c1c274      5.00000         6   \n",
              "162363  d4a0c4e2-d59a-4638-ade1-9ecbce1f61f5      5.00000        10   \n",
              "74365   f28b13aa-078b-46c0-9cfc-038106364c62      5.00000        10   \n",
              "97229   2b04852f-d5b3-4c1c-9104-9559af558e4e      4.00000        10   \n",
              "138302  886f0503-f5cf-4d75-9f36-c6b8cfcaff6d      5.00000         1   \n",
              "\n",
              "               review_created_at final_amount  \n",
              "205174  2020-08-08T18:53:53.754Z   4598.75000  \n",
              "162363  2020-07-28T22:56:46.009Z   4500.00000  \n",
              "74365   2020-03-15T14:54:30.274Z  12123.75000  \n",
              "97229   2020-02-09T02:41:17.041Z   3125.00000  \n",
              "138302  2020-05-07T17:18:13.515Z   7742.50000  \n",
              "\n",
              "[5 rows x 35 columns]"
            ],
            "text/html": [
              "\n",
              "  <div id=\"df-1937016e-786e-4e79-812c-e441e704245d\">\n",
              "    <div class=\"colab-df-container\">\n",
              "      <div>\n",
              "<style scoped>\n",
              "    .dataframe tbody tr th:only-of-type {\n",
              "        vertical-align: middle;\n",
              "    }\n",
              "\n",
              "    .dataframe tbody tr th {\n",
              "        vertical-align: top;\n",
              "    }\n",
              "\n",
              "    .dataframe thead th {\n",
              "        text-align: right;\n",
              "    }\n",
              "</style>\n",
              "<table border=\"1\" class=\"dataframe\">\n",
              "  <thead>\n",
              "    <tr style=\"text-align: right;\">\n",
              "      <th></th>\n",
              "      <th>order_id</th>\n",
              "      <th>order_shift</th>\n",
              "      <th>order_origin</th>\n",
              "      <th>delivery_fee</th>\n",
              "      <th>scheduled</th>\n",
              "      <th>total_amount</th>\n",
              "      <th>subsidy_amount</th>\n",
              "      <th>device_platform</th>\n",
              "      <th>device_type</th>\n",
              "      <th>device_app_version</th>\n",
              "      <th>...</th>\n",
              "      <th>merchant_lat</th>\n",
              "      <th>has_free_delivery</th>\n",
              "      <th>confirmed_date</th>\n",
              "      <th>concluded_date</th>\n",
              "      <th>lag_last_order</th>\n",
              "      <th>account_id</th>\n",
              "      <th>review_score</th>\n",
              "      <th>nps_score</th>\n",
              "      <th>review_created_at</th>\n",
              "      <th>final_amount</th>\n",
              "    </tr>\n",
              "  </thead>\n",
              "  <tbody>\n",
              "    <tr>\n",
              "      <th>205174</th>\n",
              "      <td>24d1a821-4dec-4e4a-be4c-12e2e064086a</td>\n",
              "      <td>weekend snack</td>\n",
              "      <td>RESTAURANT</td>\n",
              "      <td>0.00000</td>\n",
              "      <td>False</td>\n",
              "      <td>3975.00000</td>\n",
              "      <td>623.75000</td>\n",
              "      <td>IOS</td>\n",
              "      <td>MOBILE</td>\n",
              "      <td>9.57.0</td>\n",
              "      <td>...</td>\n",
              "      <td>-25.44000</td>\n",
              "      <td>True</td>\n",
              "      <td>2020-08-01T15:47:50.815Z</td>\n",
              "      <td>2020-08-01T16:08:00.784Z</td>\n",
              "      <td>2.00000</td>\n",
              "      <td>43a243bc-034a-4cff-ab9b-46deb7c1c274</td>\n",
              "      <td>5.00000</td>\n",
              "      <td>6</td>\n",
              "      <td>2020-08-08T18:53:53.754Z</td>\n",
              "      <td>4598.75000</td>\n",
              "    </tr>\n",
              "    <tr>\n",
              "      <th>162363</th>\n",
              "      <td>51c1505a-ef36-43b5-bb03-0c9ec6972feb</td>\n",
              "      <td>weekday dinner</td>\n",
              "      <td>RESTAURANT</td>\n",
              "      <td>750.00000</td>\n",
              "      <td>False</td>\n",
              "      <td>4500.00000</td>\n",
              "      <td>0.00000</td>\n",
              "      <td>IOS</td>\n",
              "      <td>MOBILE</td>\n",
              "      <td>9.57.0</td>\n",
              "      <td>...</td>\n",
              "      <td>-21.78000</td>\n",
              "      <td>False</td>\n",
              "      <td>2020-07-22T20:53:07.729Z</td>\n",
              "      <td>2020-07-23T00:53:07.318Z</td>\n",
              "      <td>2.00000</td>\n",
              "      <td>d4a0c4e2-d59a-4638-ade1-9ecbce1f61f5</td>\n",
              "      <td>5.00000</td>\n",
              "      <td>10</td>\n",
              "      <td>2020-07-28T22:56:46.009Z</td>\n",
              "      <td>4500.00000</td>\n",
              "    </tr>\n",
              "    <tr>\n",
              "      <th>74365</th>\n",
              "      <td>c2d43ce2-6f92-4e77-bfd6-609cb73e106c</td>\n",
              "      <td>weekend dinner</td>\n",
              "      <td>RESTAURANT</td>\n",
              "      <td>998.75000</td>\n",
              "      <td>False</td>\n",
              "      <td>12123.75000</td>\n",
              "      <td>0.00000</td>\n",
              "      <td>IOS</td>\n",
              "      <td>MOBILE</td>\n",
              "      <td>9.41.0</td>\n",
              "      <td>...</td>\n",
              "      <td>-22.99000</td>\n",
              "      <td>False</td>\n",
              "      <td>2020-03-14T20:26:49.127Z</td>\n",
              "      <td>2020-03-14T20:48:38.348Z</td>\n",
              "      <td>0.00000</td>\n",
              "      <td>f28b13aa-078b-46c0-9cfc-038106364c62</td>\n",
              "      <td>5.00000</td>\n",
              "      <td>10</td>\n",
              "      <td>2020-03-15T14:54:30.274Z</td>\n",
              "      <td>12123.75000</td>\n",
              "    </tr>\n",
              "    <tr>\n",
              "      <th>97229</th>\n",
              "      <td>d2fc2179-bf7b-4a96-9b41-6b068d1e1634</td>\n",
              "      <td>weekday lunch</td>\n",
              "      <td>RESTAURANT</td>\n",
              "      <td>625.00000</td>\n",
              "      <td>False</td>\n",
              "      <td>3125.00000</td>\n",
              "      <td>0.00000</td>\n",
              "      <td>ANDROID</td>\n",
              "      <td>MOBILE</td>\n",
              "      <td>9.37.0</td>\n",
              "      <td>...</td>\n",
              "      <td>-22.90000</td>\n",
              "      <td>False</td>\n",
              "      <td>2020-02-07T12:40:12.834Z</td>\n",
              "      <td>2020-02-07T14:40:17.092Z</td>\n",
              "      <td>9.00000</td>\n",
              "      <td>2b04852f-d5b3-4c1c-9104-9559af558e4e</td>\n",
              "      <td>4.00000</td>\n",
              "      <td>10</td>\n",
              "      <td>2020-02-09T02:41:17.041Z</td>\n",
              "      <td>3125.00000</td>\n",
              "    </tr>\n",
              "    <tr>\n",
              "      <th>138302</th>\n",
              "      <td>30afb1cb-cd84-4ad6-8731-82225b4b1404</td>\n",
              "      <td>weekday dinner</td>\n",
              "      <td>RESTAURANT</td>\n",
              "      <td>1498.75000</td>\n",
              "      <td>False</td>\n",
              "      <td>7742.50000</td>\n",
              "      <td>0.00000</td>\n",
              "      <td>IOS</td>\n",
              "      <td>MOBILE</td>\n",
              "      <td>9.49.0</td>\n",
              "      <td>...</td>\n",
              "      <td>-22.92000</td>\n",
              "      <td>False</td>\n",
              "      <td>2020-05-06T22:34:01.365Z</td>\n",
              "      <td>2020-05-06T23:19:58.737Z</td>\n",
              "      <td>0.00000</td>\n",
              "      <td>886f0503-f5cf-4d75-9f36-c6b8cfcaff6d</td>\n",
              "      <td>5.00000</td>\n",
              "      <td>1</td>\n",
              "      <td>2020-05-07T17:18:13.515Z</td>\n",
              "      <td>7742.50000</td>\n",
              "    </tr>\n",
              "  </tbody>\n",
              "</table>\n",
              "<p>5 rows × 35 columns</p>\n",
              "</div>\n",
              "      <button class=\"colab-df-convert\" onclick=\"convertToInteractive('df-1937016e-786e-4e79-812c-e441e704245d')\"\n",
              "              title=\"Convert this dataframe to an interactive table.\"\n",
              "              style=\"display:none;\">\n",
              "        \n",
              "  <svg xmlns=\"http://www.w3.org/2000/svg\" height=\"24px\"viewBox=\"0 0 24 24\"\n",
              "       width=\"24px\">\n",
              "    <path d=\"M0 0h24v24H0V0z\" fill=\"none\"/>\n",
              "    <path d=\"M18.56 5.44l.94 2.06.94-2.06 2.06-.94-2.06-.94-.94-2.06-.94 2.06-2.06.94zm-11 1L8.5 8.5l.94-2.06 2.06-.94-2.06-.94L8.5 2.5l-.94 2.06-2.06.94zm10 10l.94 2.06.94-2.06 2.06-.94-2.06-.94-.94-2.06-.94 2.06-2.06.94z\"/><path d=\"M17.41 7.96l-1.37-1.37c-.4-.4-.92-.59-1.43-.59-.52 0-1.04.2-1.43.59L10.3 9.45l-7.72 7.72c-.78.78-.78 2.05 0 2.83L4 21.41c.39.39.9.59 1.41.59.51 0 1.02-.2 1.41-.59l7.78-7.78 2.81-2.81c.8-.78.8-2.07 0-2.86zM5.41 20L4 18.59l7.72-7.72 1.47 1.35L5.41 20z\"/>\n",
              "  </svg>\n",
              "      </button>\n",
              "      \n",
              "  <style>\n",
              "    .colab-df-container {\n",
              "      display:flex;\n",
              "      flex-wrap:wrap;\n",
              "      gap: 12px;\n",
              "    }\n",
              "\n",
              "    .colab-df-convert {\n",
              "      background-color: #E8F0FE;\n",
              "      border: none;\n",
              "      border-radius: 50%;\n",
              "      cursor: pointer;\n",
              "      display: none;\n",
              "      fill: #1967D2;\n",
              "      height: 32px;\n",
              "      padding: 0 0 0 0;\n",
              "      width: 32px;\n",
              "    }\n",
              "\n",
              "    .colab-df-convert:hover {\n",
              "      background-color: #E2EBFA;\n",
              "      box-shadow: 0px 1px 2px rgba(60, 64, 67, 0.3), 0px 1px 3px 1px rgba(60, 64, 67, 0.15);\n",
              "      fill: #174EA6;\n",
              "    }\n",
              "\n",
              "    [theme=dark] .colab-df-convert {\n",
              "      background-color: #3B4455;\n",
              "      fill: #D2E3FC;\n",
              "    }\n",
              "\n",
              "    [theme=dark] .colab-df-convert:hover {\n",
              "      background-color: #434B5C;\n",
              "      box-shadow: 0px 1px 3px 1px rgba(0, 0, 0, 0.15);\n",
              "      filter: drop-shadow(0px 1px 2px rgba(0, 0, 0, 0.3));\n",
              "      fill: #FFFFFF;\n",
              "    }\n",
              "  </style>\n",
              "\n",
              "      <script>\n",
              "        const buttonEl =\n",
              "          document.querySelector('#df-1937016e-786e-4e79-812c-e441e704245d button.colab-df-convert');\n",
              "        buttonEl.style.display =\n",
              "          google.colab.kernel.accessAllowed ? 'block' : 'none';\n",
              "\n",
              "        async function convertToInteractive(key) {\n",
              "          const element = document.querySelector('#df-1937016e-786e-4e79-812c-e441e704245d');\n",
              "          const dataTable =\n",
              "            await google.colab.kernel.invokeFunction('convertToInteractive',\n",
              "                                                     [key], {});\n",
              "          if (!dataTable) return;\n",
              "\n",
              "          const docLinkHtml = 'Like what you see? Visit the ' +\n",
              "            '<a target=\"_blank\" href=https://colab.research.google.com/notebooks/data_table.ipynb>data table notebook</a>'\n",
              "            + ' to learn more about interactive tables.';\n",
              "          element.innerHTML = '';\n",
              "          dataTable['output_type'] = 'display_data';\n",
              "          await google.colab.output.renderOutput(dataTable, element);\n",
              "          const docLink = document.createElement('div');\n",
              "          docLink.innerHTML = docLinkHtml;\n",
              "          element.appendChild(docLink);\n",
              "        }\n",
              "      </script>\n",
              "    </div>\n",
              "  </div>\n",
              "  "
            ]
          },
          "metadata": {},
          "execution_count": 49
        }
      ]
    },
    {
      "cell_type": "code",
      "source": [
        "#Visualizando colunas\n",
        "df_orders.columns"
      ],
      "metadata": {
        "colab": {
          "base_uri": "https://localhost:8080/"
        },
        "id": "x5cPHKkNXM6H",
        "outputId": "5163db40-9ab8-4d2d-fcf0-7d94729d778a"
      },
      "execution_count": null,
      "outputs": [
        {
          "output_type": "execute_result",
          "data": {
            "text/plain": [
              "Index(['order_id', 'order_shift', 'order_origin', 'delivery_fee', 'scheduled',\n",
              "       'total_amount', 'subsidy_amount', 'device_platform', 'device_type',\n",
              "       'device_app_version', 'centroid_id', 'state_label', 'city', 'district',\n",
              "       'customer_long', 'customer_lat', 'restaurant_id', 'dish_type',\n",
              "       'group_id', 'merchant_centroid_id', 'merchant_state', 'merchant_city',\n",
              "       'merchant_district', 'merchant_zipcode', 'merchant_long',\n",
              "       'merchant_lat', 'has_free_delivery', 'confirmed_date', 'concluded_date',\n",
              "       'lag_last_order', 'account_id', 'review_score', 'nps_score',\n",
              "       'review_created_at', 'final_amount'],\n",
              "      dtype='object')"
            ]
          },
          "metadata": {},
          "execution_count": 54
        }
      ]
    },
    {
      "cell_type": "code",
      "source": [
        "#Redimensionalizando o dataset com base na correlação com o preço final do pedido\n",
        "df_orders = df_orders.iloc[:,3:9]"
      ],
      "metadata": {
        "id": "0tnndy78WIQR"
      },
      "execution_count": null,
      "outputs": []
    },
    {
      "cell_type": "code",
      "source": [
        "#Checando o novo dataframe\n",
        "df_orders.head()"
      ],
      "metadata": {
        "colab": {
          "base_uri": "https://localhost:8080/",
          "height": 206
        },
        "id": "KRuELhv4XaYh",
        "outputId": "a7c49710-7cfc-4de9-cae5-5fcd4c0bb807"
      },
      "execution_count": null,
      "outputs": [
        {
          "output_type": "execute_result",
          "data": {
            "text/plain": [
              "        delivery_fee  scheduled  total_amount  subsidy_amount device_platform  \\\n",
              "205174       0.00000      False    3975.00000       623.75000             IOS   \n",
              "162363     750.00000      False    4500.00000         0.00000             IOS   \n",
              "74365      998.75000      False   12123.75000         0.00000             IOS   \n",
              "97229      625.00000      False    3125.00000         0.00000         ANDROID   \n",
              "138302    1498.75000      False    7742.50000         0.00000             IOS   \n",
              "\n",
              "       device_type  \n",
              "205174      MOBILE  \n",
              "162363      MOBILE  \n",
              "74365       MOBILE  \n",
              "97229       MOBILE  \n",
              "138302      MOBILE  "
            ],
            "text/html": [
              "\n",
              "  <div id=\"df-dcd01e82-5c86-43f3-9b33-133ddd8a21f1\">\n",
              "    <div class=\"colab-df-container\">\n",
              "      <div>\n",
              "<style scoped>\n",
              "    .dataframe tbody tr th:only-of-type {\n",
              "        vertical-align: middle;\n",
              "    }\n",
              "\n",
              "    .dataframe tbody tr th {\n",
              "        vertical-align: top;\n",
              "    }\n",
              "\n",
              "    .dataframe thead th {\n",
              "        text-align: right;\n",
              "    }\n",
              "</style>\n",
              "<table border=\"1\" class=\"dataframe\">\n",
              "  <thead>\n",
              "    <tr style=\"text-align: right;\">\n",
              "      <th></th>\n",
              "      <th>delivery_fee</th>\n",
              "      <th>scheduled</th>\n",
              "      <th>total_amount</th>\n",
              "      <th>subsidy_amount</th>\n",
              "      <th>device_platform</th>\n",
              "      <th>device_type</th>\n",
              "    </tr>\n",
              "  </thead>\n",
              "  <tbody>\n",
              "    <tr>\n",
              "      <th>205174</th>\n",
              "      <td>0.00000</td>\n",
              "      <td>False</td>\n",
              "      <td>3975.00000</td>\n",
              "      <td>623.75000</td>\n",
              "      <td>IOS</td>\n",
              "      <td>MOBILE</td>\n",
              "    </tr>\n",
              "    <tr>\n",
              "      <th>162363</th>\n",
              "      <td>750.00000</td>\n",
              "      <td>False</td>\n",
              "      <td>4500.00000</td>\n",
              "      <td>0.00000</td>\n",
              "      <td>IOS</td>\n",
              "      <td>MOBILE</td>\n",
              "    </tr>\n",
              "    <tr>\n",
              "      <th>74365</th>\n",
              "      <td>998.75000</td>\n",
              "      <td>False</td>\n",
              "      <td>12123.75000</td>\n",
              "      <td>0.00000</td>\n",
              "      <td>IOS</td>\n",
              "      <td>MOBILE</td>\n",
              "    </tr>\n",
              "    <tr>\n",
              "      <th>97229</th>\n",
              "      <td>625.00000</td>\n",
              "      <td>False</td>\n",
              "      <td>3125.00000</td>\n",
              "      <td>0.00000</td>\n",
              "      <td>ANDROID</td>\n",
              "      <td>MOBILE</td>\n",
              "    </tr>\n",
              "    <tr>\n",
              "      <th>138302</th>\n",
              "      <td>1498.75000</td>\n",
              "      <td>False</td>\n",
              "      <td>7742.50000</td>\n",
              "      <td>0.00000</td>\n",
              "      <td>IOS</td>\n",
              "      <td>MOBILE</td>\n",
              "    </tr>\n",
              "  </tbody>\n",
              "</table>\n",
              "</div>\n",
              "      <button class=\"colab-df-convert\" onclick=\"convertToInteractive('df-dcd01e82-5c86-43f3-9b33-133ddd8a21f1')\"\n",
              "              title=\"Convert this dataframe to an interactive table.\"\n",
              "              style=\"display:none;\">\n",
              "        \n",
              "  <svg xmlns=\"http://www.w3.org/2000/svg\" height=\"24px\"viewBox=\"0 0 24 24\"\n",
              "       width=\"24px\">\n",
              "    <path d=\"M0 0h24v24H0V0z\" fill=\"none\"/>\n",
              "    <path d=\"M18.56 5.44l.94 2.06.94-2.06 2.06-.94-2.06-.94-.94-2.06-.94 2.06-2.06.94zm-11 1L8.5 8.5l.94-2.06 2.06-.94-2.06-.94L8.5 2.5l-.94 2.06-2.06.94zm10 10l.94 2.06.94-2.06 2.06-.94-2.06-.94-.94-2.06-.94 2.06-2.06.94z\"/><path d=\"M17.41 7.96l-1.37-1.37c-.4-.4-.92-.59-1.43-.59-.52 0-1.04.2-1.43.59L10.3 9.45l-7.72 7.72c-.78.78-.78 2.05 0 2.83L4 21.41c.39.39.9.59 1.41.59.51 0 1.02-.2 1.41-.59l7.78-7.78 2.81-2.81c.8-.78.8-2.07 0-2.86zM5.41 20L4 18.59l7.72-7.72 1.47 1.35L5.41 20z\"/>\n",
              "  </svg>\n",
              "      </button>\n",
              "      \n",
              "  <style>\n",
              "    .colab-df-container {\n",
              "      display:flex;\n",
              "      flex-wrap:wrap;\n",
              "      gap: 12px;\n",
              "    }\n",
              "\n",
              "    .colab-df-convert {\n",
              "      background-color: #E8F0FE;\n",
              "      border: none;\n",
              "      border-radius: 50%;\n",
              "      cursor: pointer;\n",
              "      display: none;\n",
              "      fill: #1967D2;\n",
              "      height: 32px;\n",
              "      padding: 0 0 0 0;\n",
              "      width: 32px;\n",
              "    }\n",
              "\n",
              "    .colab-df-convert:hover {\n",
              "      background-color: #E2EBFA;\n",
              "      box-shadow: 0px 1px 2px rgba(60, 64, 67, 0.3), 0px 1px 3px 1px rgba(60, 64, 67, 0.15);\n",
              "      fill: #174EA6;\n",
              "    }\n",
              "\n",
              "    [theme=dark] .colab-df-convert {\n",
              "      background-color: #3B4455;\n",
              "      fill: #D2E3FC;\n",
              "    }\n",
              "\n",
              "    [theme=dark] .colab-df-convert:hover {\n",
              "      background-color: #434B5C;\n",
              "      box-shadow: 0px 1px 3px 1px rgba(0, 0, 0, 0.15);\n",
              "      filter: drop-shadow(0px 1px 2px rgba(0, 0, 0, 0.3));\n",
              "      fill: #FFFFFF;\n",
              "    }\n",
              "  </style>\n",
              "\n",
              "      <script>\n",
              "        const buttonEl =\n",
              "          document.querySelector('#df-dcd01e82-5c86-43f3-9b33-133ddd8a21f1 button.colab-df-convert');\n",
              "        buttonEl.style.display =\n",
              "          google.colab.kernel.accessAllowed ? 'block' : 'none';\n",
              "\n",
              "        async function convertToInteractive(key) {\n",
              "          const element = document.querySelector('#df-dcd01e82-5c86-43f3-9b33-133ddd8a21f1');\n",
              "          const dataTable =\n",
              "            await google.colab.kernel.invokeFunction('convertToInteractive',\n",
              "                                                     [key], {});\n",
              "          if (!dataTable) return;\n",
              "\n",
              "          const docLinkHtml = 'Like what you see? Visit the ' +\n",
              "            '<a target=\"_blank\" href=https://colab.research.google.com/notebooks/data_table.ipynb>data table notebook</a>'\n",
              "            + ' to learn more about interactive tables.';\n",
              "          element.innerHTML = '';\n",
              "          dataTable['output_type'] = 'display_data';\n",
              "          await google.colab.output.renderOutput(dataTable, element);\n",
              "          const docLink = document.createElement('div');\n",
              "          docLink.innerHTML = docLinkHtml;\n",
              "          element.appendChild(docLink);\n",
              "        }\n",
              "      </script>\n",
              "    </div>\n",
              "  </div>\n",
              "  "
            ]
          },
          "metadata": {},
          "execution_count": 56
        }
      ]
    },
    {
      "cell_type": "code",
      "source": [
        "#Por se tratar de um dataset com não muitas variáveis utilizaremos o Get Dummies para transformação numérica\n",
        "df_orders = pd.get_dummies(df_orders, drop_first = True )"
      ],
      "metadata": {
        "id": "_bE7WAJclih-"
      },
      "execution_count": null,
      "outputs": []
    },
    {
      "cell_type": "code",
      "source": [
        "#Normalizando os dados\n",
        "sc = StandardScaler()\n",
        "df_orders_scale = sc.fit_transform(df_orders)"
      ],
      "metadata": {
        "id": "t0hclsSg332x"
      },
      "execution_count": null,
      "outputs": []
    },
    {
      "cell_type": "markdown",
      "source": [
        "## **3- Implementando o KMeans e nosso método preditivo**"
      ],
      "metadata": {
        "id": "Fr1Fxu4KdfHB"
      }
    },
    {
      "cell_type": "code",
      "source": [
        "#Usando Elbow Method para encontrar o melhor K possível\n",
        "wcss = []\n",
        "for i in range(1,11):\n",
        "  kmeans = KMeans(n_clusters = i, init = 'k-means++', random_state=42)\n",
        "  kmeans.fit(df_orders_scale)\n",
        "  wcss.append(kmeans.inertia_)\n",
        "plt.plot(range(1,11),wcss, scalex=True)\n",
        "plt.title('The Elbow Method')\n",
        "plt.xlabel('Number of Clusters')\n",
        "plt.ylabel('WCSS')\n",
        "plt.show()"
      ],
      "metadata": {
        "id": "sbRh-h6ddi7u",
        "colab": {
          "base_uri": "https://localhost:8080/",
          "height": 295
        },
        "outputId": "a29c5a1b-88c3-454f-cf81-2a30e295dcaa"
      },
      "execution_count": null,
      "outputs": [
        {
          "output_type": "display_data",
          "data": {
            "text/plain": [
              "<Figure size 432x288 with 1 Axes>"
            ],
            "image/png": "[encoded data removed]"
          },
          "metadata": {
            "needs_background": "light"
          }
        }
      ]
    },
    {
      "cell_type": "code",
      "source": [
        "#Treinando KMeans para K=6\n",
        "kmeans = KMeans(n_clusters=6, init='k-means++',random_state=42)\n",
        "y = kmeans.fit_predict(df_orders_scale)"
      ],
      "metadata": {
        "id": "zQl1P5rXelFy"
      },
      "execution_count": null,
      "outputs": []
    },
    {
      "cell_type": "code",
      "source": [
        "#Visualizando os Clusters\n",
        "plt.scatter(df_orders_scale[y==0,0], df_orders_scale[y==0,1], c='red', s=50)\n",
        "plt.scatter(df_orders_scale[y==1,0], df_orders_scale[y==1,1], c='blue', s=150)\n",
        "plt.scatter(df_orders_scale[y==2,0], df_orders_scale[y==2,1], c='orange', s=50)\n",
        "plt.scatter(df_orders_scale[y==3,0], df_orders_scale[y==3,1], c='brown', s=50)\n",
        "plt.scatter(df_orders_scale[y==4,0], df_orders_scale[y==4,1], c='yellow', s=150)\n",
        "plt.scatter(df_orders_scale[y==5,0], df_orders_scale[y==5,1], c='green', s=50)\n",
        "plt.title('KMeans Clustering')\n",
        "plt.xlabel('X')\n",
        "plt.ylabel('Y')\n",
        "plt.show()"
      ],
      "metadata": {
        "id": "aCA22GB3espw",
        "colab": {
          "base_uri": "https://localhost:8080/",
          "height": 295
        },
        "outputId": "4a4b73f8-9a1d-45b0-c81a-b7ad6ac4e5ef"
      },
      "execution_count": null,
      "outputs": [
        {
          "output_type": "display_data",
          "data": {
            "text/plain": [
              "<Figure size 432x288 with 1 Axes>"
            ],
            "image/png": "[encoded data removed]"
          },
          "metadata": {
            "needs_background": "light"
          }
        }
      ]
    },
    {
      "cell_type": "code",
      "source": [
        "#Visualizando melhor com um gráfico de setor\n",
        "clusters=pd.DataFrame(df_orders_scale)\n",
        "clusters['label']=kmeans.labels_\n",
        "pie=clusters.groupby('label').size().reset_index()\n",
        "pie.columns=['label','value']\n",
        "px.pie(pie,values='value',names='label',color=['blue','red','green', 'brown', 'orange', 'yellow'])"
      ],
      "metadata": {
        "id": "o5h_DQbOoLtO",
        "colab": {
          "base_uri": "https://localhost:8080/",
          "height": 542
        },
        "outputId": "7a2990c9-f01d-4ae7-dfd8-fde225d6e86d"
      },
      "execution_count": null,
      "outputs": [
        {
          "output_type": "display_data",
          "data": {
            "text/html": [
              "<html>\n",
              "<head><meta charset=\"utf-8\" /></head>\n",
              "<body>\n",
              "    <div>            <script src=\"https://cdnjs.cloudflare.com/ajax/libs/mathjax/2.7.5/MathJax.js?config=TeX-AMS-MML_SVG\"></script><script type=\"text/javascript\">if (window.MathJax) {MathJax.Hub.Config({SVG: {font: \"STIX-Web\"}});}</script>                <script type=\"text/javascript\">window.PlotlyConfig = {MathJaxConfig: 'local'};</script>\n",
              "        <script src=\"https://cdn.plot.ly/plotly-2.8.3.min.js\"></script>                <div id=\"cfb86da2-4e71-4417-a7d0-c5bd544fc3ed\" class=\"plotly-graph-div\" style=\"height:525px; width:100%;\"></div>            <script type=\"text/javascript\">                                    window.PLOTLYENV=window.PLOTLYENV || {};                                    if (document.getElementById(\"cfb86da2-4e71-4417-a7d0-c5bd544fc3ed\")) {                    Plotly.newPlot(                        \"cfb86da2-4e71-4417-a7d0-c5bd544fc3ed\",                        [{\"customdata\":[[\"blue\"],[\"red\"],[\"green\"],[\"brown\"],[\"orange\"],[\"yellow\"]],\"domain\":{\"x\":[0.0,1.0],\"y\":[0.0,1.0]},\"hovertemplate\":\"label=%{label}<br>value=%{value}<br>color=%{customdata[0]}<extra></extra>\",\"labels\":[0,1,2,3,4,5],\"legendgroup\":\"\",\"marker\":{\"colors\":[\"#636efa\",\"#EF553B\",\"#00cc96\",\"#ab63fa\",\"#FFA15A\",\"#19d3f3\"]},\"name\":\"\",\"showlegend\":true,\"values\":[46,43,62,19,122,8],\"type\":\"pie\"}],                        {\"template\":{\"data\":{\"bar\":[{\"error_x\":{\"color\":\"#2a3f5f\"},\"error_y\":{\"color\":\"#2a3f5f\"},\"marker\":{\"line\":{\"color\":\"#E5ECF6\",\"width\":0.5},\"pattern\":{\"fillmode\":\"overlay\",\"size\":10,\"solidity\":0.2}},\"type\":\"bar\"}],\"barpolar\":[{\"marker\":{\"line\":{\"color\":\"#E5ECF6\",\"width\":0.5},\"pattern\":{\"fillmode\":\"overlay\",\"size\":10,\"solidity\":0.2}},\"type\":\"barpolar\"}],\"carpet\":[{\"aaxis\":{\"endlinecolor\":\"#2a3f5f\",\"gridcolor\":\"white\",\"linecolor\":\"white\",\"minorgridcolor\":\"white\",\"startlinecolor\":\"#2a3f5f\"},\"baxis\":{\"endlinecolor\":\"#2a3f5f\",\"gridcolor\":\"white\",\"linecolor\":\"white\",\"minorgridcolor\":\"white\",\"startlinecolor\":\"#2a3f5f\"},\"type\":\"carpet\"}],\"choropleth\":[{\"colorbar\":{\"outlinewidth\":0,\"ticks\":\"\"},\"type\":\"choropleth\"}],\"contour\":[{\"colorbar\":{\"outlinewidth\":0,\"ticks\":\"\"},\"colorscale\":[[0.0,\"#0d0887\"],[0.1111111111111111,\"#46039f\"],[0.2222222222222222,\"#7201a8\"],[0.3333333333333333,\"#9c179e\"],[0.4444444444444444,\"#bd3786\"],[0.5555555555555556,\"#d8576b\"],[0.6666666666666666,\"#ed7953\"],[0.7777777777777778,\"#fb9f3a\"],[0.8888888888888888,\"#fdca26\"],[1.0,\"#f0f921\"]],\"type\":\"contour\"}],\"contourcarpet\":[{\"colorbar\":{\"outlinewidth\":0,\"ticks\":\"\"},\"type\":\"contourcarpet\"}],\"heatmap\":[{\"colorbar\":{\"outlinewidth\":0,\"ticks\":\"\"},\"colorscale\":[[0.0,\"#0d0887\"],[0.1111111111111111,\"#46039f\"],[0.2222222222222222,\"#7201a8\"],[0.3333333333333333,\"#9c179e\"],[0.4444444444444444,\"#bd3786\"],[0.5555555555555556,\"#d8576b\"],[0.6666666666666666,\"#ed7953\"],[0.7777777777777778,\"#fb9f3a\"],[0.8888888888888888,\"#fdca26\"],[1.0,\"#f0f921\"]],\"type\":\"heatmap\"}],\"heatmapgl\":[{\"colorbar\":{\"outlinewidth\":0,\"ticks\":\"\"},\"colorscale\":[[0.0,\"#0d0887\"],[0.1111111111111111,\"#46039f\"],[0.2222222222222222,\"#7201a8\"],[0.3333333333333333,\"#9c179e\"],[0.4444444444444444,\"#bd3786\"],[0.5555555555555556,\"#d8576b\"],[0.6666666666666666,\"#ed7953\"],[0.7777777777777778,\"#fb9f3a\"],[0.8888888888888888,\"#fdca26\"],[1.0,\"#f0f921\"]],\"type\":\"heatmapgl\"}],\"histogram\":[{\"marker\":{\"pattern\":{\"fillmode\":\"overlay\",\"size\":10,\"solidity\":0.2}},\"type\":\"histogram\"}],\"histogram2d\":[{\"colorbar\":{\"outlinewidth\":0,\"ticks\":\"\"},\"colorscale\":[[0.0,\"#0d0887\"],[0.1111111111111111,\"#46039f\"],[0.2222222222222222,\"#7201a8\"],[0.3333333333333333,\"#9c179e\"],[0.4444444444444444,\"#bd3786\"],[0.5555555555555556,\"#d8576b\"],[0.6666666666666666,\"#ed7953\"],[0.7777777777777778,\"#fb9f3a\"],[0.8888888888888888,\"#fdca26\"],[1.0,\"#f0f921\"]],\"type\":\"histogram2d\"}],\"histogram2dcontour\":[{\"colorbar\":{\"outlinewidth\":0,\"ticks\":\"\"},\"colorscale\":[[0.0,\"#0d0887\"],[0.1111111111111111,\"#46039f\"],[0.2222222222222222,\"#7201a8\"],[0.3333333333333333,\"#9c179e\"],[0.4444444444444444,\"#bd3786\"],[0.5555555555555556,\"#d8576b\"],[0.6666666666666666,\"#ed7953\"],[0.7777777777777778,\"#fb9f3a\"],[0.8888888888888888,\"#fdca26\"],[1.0,\"#f0f921\"]],\"type\":\"histogram2dcontour\"}],\"mesh3d\":[{\"colorbar\":{\"outlinewidth\":0,\"ticks\":\"\"},\"type\":\"mesh3d\"}],\"parcoords\":[{\"line\":{\"colorbar\":{\"outlinewidth\":0,\"ticks\":\"\"}},\"type\":\"parcoords\"}],\"pie\":[{\"automargin\":true,\"type\":\"pie\"}],\"scatter\":[{\"marker\":{\"colorbar\":{\"outlinewidth\":0,\"ticks\":\"\"}},\"type\":\"scatter\"}],\"scatter3d\":[{\"line\":{\"colorbar\":{\"outlinewidth\":0,\"ticks\":\"\"}},\"marker\":{\"colorbar\":{\"outlinewidth\":0,\"ticks\":\"\"}},\"type\":\"scatter3d\"}],\"scattercarpet\":[{\"marker\":{\"colorbar\":{\"outlinewidth\":0,\"ticks\":\"\"}},\"type\":\"scattercarpet\"}],\"scattergeo\":[{\"marker\":{\"colorbar\":{\"outlinewidth\":0,\"ticks\":\"\"}},\"type\":\"scattergeo\"}],\"scattergl\":[{\"marker\":{\"colorbar\":{\"outlinewidth\":0,\"ticks\":\"\"}},\"type\":\"scattergl\"}],\"scattermapbox\":[{\"marker\":{\"colorbar\":{\"outlinewidth\":0,\"ticks\":\"\"}},\"type\":\"scattermapbox\"}],\"scatterpolar\":[{\"marker\":{\"colorbar\":{\"outlinewidth\":0,\"ticks\":\"\"}},\"type\":\"scatterpolar\"}],\"scatterpolargl\":[{\"marker\":{\"colorbar\":{\"outlinewidth\":0,\"ticks\":\"\"}},\"type\":\"scatterpolargl\"}],\"scatterternary\":[{\"marker\":{\"colorbar\":{\"outlinewidth\":0,\"ticks\":\"\"}},\"type\":\"scatterternary\"}],\"surface\":[{\"colorbar\":{\"outlinewidth\":0,\"ticks\":\"\"},\"colorscale\":[[0.0,\"#0d0887\"],[0.1111111111111111,\"#46039f\"],[0.2222222222222222,\"#7201a8\"],[0.3333333333333333,\"#9c179e\"],[0.4444444444444444,\"#bd3786\"],[0.5555555555555556,\"#d8576b\"],[0.6666666666666666,\"#ed7953\"],[0.7777777777777778,\"#fb9f3a\"],[0.8888888888888888,\"#fdca26\"],[1.0,\"#f0f921\"]],\"type\":\"surface\"}],\"table\":[{\"cells\":{\"fill\":{\"color\":\"#EBF0F8\"},\"line\":{\"color\":\"white\"}},\"header\":{\"fill\":{\"color\":\"#C8D4E3\"},\"line\":{\"color\":\"white\"}},\"type\":\"table\"}]},\"layout\":{\"annotationdefaults\":{\"arrowcolor\":\"#2a3f5f\",\"arrowhead\":0,\"arrowwidth\":1},\"autotypenumbers\":\"strict\",\"coloraxis\":{\"colorbar\":{\"outlinewidth\":0,\"ticks\":\"\"}},\"colorscale\":{\"diverging\":[[0,\"#8e0152\"],[0.1,\"#c51b7d\"],[0.2,\"#de77ae\"],[0.3,\"#f1b6da\"],[0.4,\"#fde0ef\"],[0.5,\"#f7f7f7\"],[0.6,\"#e6f5d0\"],[0.7,\"#b8e186\"],[0.8,\"#7fbc41\"],[0.9,\"#4d9221\"],[1,\"#276419\"]],\"sequential\":[[0.0,\"#0d0887\"],[0.1111111111111111,\"#46039f\"],[0.2222222222222222,\"#7201a8\"],[0.3333333333333333,\"#9c179e\"],[0.4444444444444444,\"#bd3786\"],[0.5555555555555556,\"#d8576b\"],[0.6666666666666666,\"#ed7953\"],[0.7777777777777778,\"#fb9f3a\"],[0.8888888888888888,\"#fdca26\"],[1.0,\"#f0f921\"]],\"sequentialminus\":[[0.0,\"#0d0887\"],[0.1111111111111111,\"#46039f\"],[0.2222222222222222,\"#7201a8\"],[0.3333333333333333,\"#9c179e\"],[0.4444444444444444,\"#bd3786\"],[0.5555555555555556,\"#d8576b\"],[0.6666666666666666,\"#ed7953\"],[0.7777777777777778,\"#fb9f3a\"],[0.8888888888888888,\"#fdca26\"],[1.0,\"#f0f921\"]]},\"colorway\":[\"#636efa\",\"#EF553B\",\"#00cc96\",\"#ab63fa\",\"#FFA15A\",\"#19d3f3\",\"#FF6692\",\"#B6E880\",\"#FF97FF\",\"#FECB52\"],\"font\":{\"color\":\"#2a3f5f\"},\"geo\":{\"bgcolor\":\"white\",\"lakecolor\":\"white\",\"landcolor\":\"#E5ECF6\",\"showlakes\":true,\"showland\":true,\"subunitcolor\":\"white\"},\"hoverlabel\":{\"align\":\"left\"},\"hovermode\":\"closest\",\"mapbox\":{\"style\":\"light\"},\"paper_bgcolor\":\"white\",\"plot_bgcolor\":\"#E5ECF6\",\"polar\":{\"angularaxis\":{\"gridcolor\":\"white\",\"linecolor\":\"white\",\"ticks\":\"\"},\"bgcolor\":\"#E5ECF6\",\"radialaxis\":{\"gridcolor\":\"white\",\"linecolor\":\"white\",\"ticks\":\"\"}},\"scene\":{\"xaxis\":{\"backgroundcolor\":\"#E5ECF6\",\"gridcolor\":\"white\",\"gridwidth\":2,\"linecolor\":\"white\",\"showbackground\":true,\"ticks\":\"\",\"zerolinecolor\":\"white\"},\"yaxis\":{\"backgroundcolor\":\"#E5ECF6\",\"gridcolor\":\"white\",\"gridwidth\":2,\"linecolor\":\"white\",\"showbackground\":true,\"ticks\":\"\",\"zerolinecolor\":\"white\"},\"zaxis\":{\"backgroundcolor\":\"#E5ECF6\",\"gridcolor\":\"white\",\"gridwidth\":2,\"linecolor\":\"white\",\"showbackground\":true,\"ticks\":\"\",\"zerolinecolor\":\"white\"}},\"shapedefaults\":{\"line\":{\"color\":\"#2a3f5f\"}},\"ternary\":{\"aaxis\":{\"gridcolor\":\"white\",\"linecolor\":\"white\",\"ticks\":\"\"},\"baxis\":{\"gridcolor\":\"white\",\"linecolor\":\"white\",\"ticks\":\"\"},\"bgcolor\":\"#E5ECF6\",\"caxis\":{\"gridcolor\":\"white\",\"linecolor\":\"white\",\"ticks\":\"\"}},\"title\":{\"x\":0.05},\"xaxis\":{\"automargin\":true,\"gridcolor\":\"white\",\"linecolor\":\"white\",\"ticks\":\"\",\"title\":{\"standoff\":15},\"zerolinecolor\":\"white\",\"zerolinewidth\":2},\"yaxis\":{\"automargin\":true,\"gridcolor\":\"white\",\"linecolor\":\"white\",\"ticks\":\"\",\"title\":{\"standoff\":15},\"zerolinecolor\":\"white\",\"zerolinewidth\":2}}},\"legend\":{\"tracegroupgap\":0},\"margin\":{\"t\":60}},                        {\"responsive\": true}                    ).then(function(){\n",
              "                            \n",
              "var gd = document.getElementById('cfb86da2-4e71-4417-a7d0-c5bd544fc3ed');\n",
              "var x = new MutationObserver(function (mutations, observer) {{\n",
              "        var display = window.getComputedStyle(gd).display;\n",
              "        if (!display || display === 'none') {{\n",
              "            console.log([gd, 'removed!']);\n",
              "            Plotly.purge(gd);\n",
              "            observer.disconnect();\n",
              "        }}\n",
              "}});\n",
              "\n",
              "// Listen for the removal of the full notebook cells\n",
              "var notebookContainer = gd.closest('#notebook-container');\n",
              "if (notebookContainer) {{\n",
              "    x.observe(notebookContainer, {childList: true});\n",
              "}}\n",
              "\n",
              "// Listen for the clearing of the current output cell\n",
              "var outputEl = gd.closest('.output');\n",
              "if (outputEl) {{\n",
              "    x.observe(outputEl, {childList: true});\n",
              "}}\n",
              "\n",
              "                        })                };                            </script>        </div>\n",
              "</body>\n",
              "</html>"
            ]
          },
          "metadata": {}
        }
      ]
    },
    {
      "cell_type": "code",
      "source": [
        "#Usaremos a distância euclidiana e o método de ligação Ward, que tenta minimizar a variância entre os clusters.\n",
        "dendrogram = sch.dendrogram(sch.linkage(df_orders_scale,method='ward'))\n",
        "plt.title('Dendrogram')\n",
        "plt.xlabel('Clients')\n",
        "plt.ylabel('Euclidean Distance')\n",
        "plt.show()"
      ],
      "metadata": {
        "id": "xkpt0zcBoMDp",
        "colab": {
          "base_uri": "https://localhost:8080/",
          "height": 295
        },
        "outputId": "026577fd-6c99-4032-d975-e26d5b10a97f"
      },
      "execution_count": null,
      "outputs": [
        {
          "output_type": "display_data",
          "data": {
            "text/plain": [
              "<Figure size 432x288 with 1 Axes>"
            ],
            "image/png": "[encoded data removed]"
          },
          "metadata": {
            "needs_background": "light"
          }
        }
      ]
    },
    {
      "cell_type": "code",
      "source": [
        "#Calcular os clusters usando os parâmetros definidos em nosso número de clusters escolhido.\n",
        "hc = AgglomerativeClustering(n_clusters=6, affinity='euclidean', linkage='ward')\n",
        "y = hc.fit_predict(df_orders_scale)\n",
        "print(y)"
      ],
      "metadata": {
        "id": "Hp735nlYo-_M",
        "colab": {
          "base_uri": "https://localhost:8080/"
        },
        "outputId": "0ddc456d-73f4-4922-ebdc-0f62cc30d92e"
      },
      "execution_count": null,
      "outputs": [
        {
          "output_type": "stream",
          "name": "stdout",
          "text": [
            "[2 0 0 1 0 1 0 1 1 1 1 2 1 1 2 3 1 1 0 1 1 1 1 5 1 2 0 4 4 2 2 0 1 3 2 0 3\n",
            " 1 1 1 1 2 1 3 4 1 4 0 1 5 2 1 4 4 4 2 1 3 0 3 1 0 1 1 1 1 1 1 5 1 0 2 1 1\n",
            " 3 1 0 1 2 1 1 1 1 0 1 0 0 0 0 2 5 2 1 4 3 2 1 2 2 1 4 1 4 4 1 4 1 1 1 1 0\n",
            " 1 0 1 1 1 1 1 2 1 1 1 2 2 5 2 4 2 1 2 2 2 1 1 1 3 3 0 1 1 1 1 1 1 1 1 1 1\n",
            " 4 1 1 1 2 1 4 0 0 0 0 4 4 2 1 1 1 1 3 0 1 3 1 1 4 0 1 1 4 0 0 1 1 0 5 4 1\n",
            " 1 1 3 1 2 4 1 0 1 1 1 0 3 1 1 2 3 2 0 2 2 1 1 1 3 1 1 0 1 2 2 1 2 1 1 1 4\n",
            " 0 1 5 1 2 0 0 1 5 0 1 0 4 0 1 1 0 1 2 1 2 1 3 2 1 1 4 1 1 1 2 2 0 1 0 1 3\n",
            " 1 1 2 4 4 0 1 0 4 0 1 2 1 0 0 1 1 0 2 0 0 4 2 2 1 0 4 1 1 2 1 2 2 2 1 1 1\n",
            " 4 0 0 0]\n"
          ]
        }
      ]
    },
    {
      "cell_type": "code",
      "source": [
        "#Visualizando o modelo\n",
        "plt.scatter(df_orders_scale[y==0,0], df_orders_scale[y==0,1], c='red', s=50)\n",
        "plt.scatter(df_orders_scale[y==1,0], df_orders_scale[y==1,1], c='blue', s=150)\n",
        "plt.scatter(df_orders_scale[y==2,0], df_orders_scale[y==2,1], c='orange', s=50)\n",
        "plt.scatter(df_orders_scale[y==3,0], df_orders_scale[y==3,1], c='brown', s=50)\n",
        "plt.scatter(df_orders_scale[y==4,0], df_orders_scale[y==4,1], c='yellow', s=150)\n",
        "plt.scatter(df_orders_scale[y==5,0], df_orders_scale[y==5,1], c='green', s=50)\n",
        "\n",
        "plt.title('KMeans Clustering')\n",
        "plt.show()"
      ],
      "metadata": {
        "id": "QZH8_utqpMo0",
        "colab": {
          "base_uri": "https://localhost:8080/",
          "height": 281
        },
        "outputId": "13122cbe-4a8e-4c37-d3fd-d6c6c78e1841"
      },
      "execution_count": null,
      "outputs": [
        {
          "output_type": "display_data",
          "data": {
            "text/plain": [
              "<Figure size 432x288 with 1 Axes>"
            ],
            "image/png": "[encoded data removed]"
          },
          "metadata": {
            "needs_background": "light"
          }
        }
      ]
    },
    {
      "cell_type": "code",
      "source": [
        "# Silhouette analysis\n",
        "range_n_clusters = [6]\n",
        "for num_clusters in range_n_clusters:\n",
        "    \n",
        "    # intialise kmeans\n",
        "    kmeans = KMeans(n_clusters=num_clusters, max_iter=50)\n",
        "    kmeans.fit(df_orders_scale)\n",
        "    \n",
        "    cluster_labels = kmeans.labels_\n",
        "    \n",
        "    # silhouette score\n",
        "    silhouette_avg = silhouette_score(df_orders_scale, cluster_labels)\n",
        "    print(\"For n_clusters={0}, the silhouette score is {1}\".format(num_clusters, silhouette_avg))\n",
        "    "
      ],
      "metadata": {
        "id": "m5B7EZef0ryO",
        "colab": {
          "base_uri": "https://localhost:8080/"
        },
        "outputId": "6b3efb3f-6d42-4327-dcd4-0082c434ed8b"
      },
      "execution_count": null,
      "outputs": [
        {
          "output_type": "stream",
          "name": "stdout",
          "text": [
            "For n_clusters=6, the silhouette score is 0.39640839479314394\n"
          ]
        }
      ]
    },
    {
      "cell_type": "code",
      "source": [
        "#Listas com nomes das colunas\n",
        "nomes = ['order_origin', 'delivery_fee', 'scheduled', 'total_amount', 'subsidy_amount', 'device_platform', 'device_type']"
      ],
      "metadata": {
        "id": "UGm6f-34a2lB"
      },
      "execution_count": null,
      "outputs": []
    },
    {
      "cell_type": "code",
      "source": [
        "#Incluindo o número de cluster na base de clientes\n",
        "cluster = pd.DataFrame(df_orders_scale, columns=nomes)\n",
        "cluster['cluster'] = kmeans.labels_"
      ],
      "metadata": {
        "id": "BQd8IKncbHJx"
      },
      "execution_count": null,
      "outputs": []
    },
    {
      "cell_type": "code",
      "source": [
        "cluster"
      ],
      "metadata": {
        "colab": {
          "base_uri": "https://localhost:8080/",
          "height": 423
        },
        "id": "DQzcNsXCj-4q",
        "outputId": "cc7a1a8a-2f49-45f3-ff2f-87454503b680"
      },
      "execution_count": null,
      "outputs": [
        {
          "output_type": "execute_result",
          "data": {
            "text/plain": [
              "     order_origin  delivery_fee  scheduled  total_amount  subsidy_amount  \\\n",
              "0        -0.80914      -0.16552   -0.45992       0.40632        -0.25265   \n",
              "1         0.70890      -0.16552   -0.35734      -0.57992        -0.25265   \n",
              "2         1.21239      -0.16552    1.13229      -0.57992        -0.25265   \n",
              "3         0.45589      -0.16552   -0.62601      -0.57992        -0.25265   \n",
              "4         2.22441      -0.16552    0.27622      -0.57992        -0.25265   \n",
              "..            ...           ...        ...           ...             ...   \n",
              "295       2.47742      -0.16552    0.27745      -0.57992        -0.25265   \n",
              "296       1.71840      -0.16552    0.08205       5.34941        -0.25265   \n",
              "297       1.21239      -0.16552    1.01017      -0.57992        -0.25265   \n",
              "298      -0.80914      -0.16552    3.64066       0.40632        -0.25265   \n",
              "299       0.45336      -0.16552   -0.39422      -0.57992        -0.25265   \n",
              "\n",
              "     device_platform  device_type  cluster  \n",
              "0            1.34303     -0.26003        4  \n",
              "1            1.34303     -0.26003        4  \n",
              "2            1.34303     -0.26003        2  \n",
              "3           -0.74458     -0.26003        0  \n",
              "4            1.34303     -0.26003        2  \n",
              "..               ...          ...      ...  \n",
              "295         -0.74458     -0.26003        2  \n",
              "296          1.34303     -0.26003        3  \n",
              "297          1.34303     -0.26003        2  \n",
              "298          1.34303     -0.26003        2  \n",
              "299          1.34303     -0.26003        4  \n",
              "\n",
              "[300 rows x 8 columns]"
            ],
            "text/html": [
              "\n",
              "  <div id=\"df-53db6ff9-7645-4bff-9b12-a8f7b44bda28\">\n",
              "    <div class=\"colab-df-container\">\n",
              "      <div>\n",
              "<style scoped>\n",
              "    .dataframe tbody tr th:only-of-type {\n",
              "        vertical-align: middle;\n",
              "    }\n",
              "\n",
              "    .dataframe tbody tr th {\n",
              "        vertical-align: top;\n",
              "    }\n",
              "\n",
              "    .dataframe thead th {\n",
              "        text-align: right;\n",
              "    }\n",
              "</style>\n",
              "<table border=\"1\" class=\"dataframe\">\n",
              "  <thead>\n",
              "    <tr style=\"text-align: right;\">\n",
              "      <th></th>\n",
              "      <th>order_origin</th>\n",
              "      <th>delivery_fee</th>\n",
              "      <th>scheduled</th>\n",
              "      <th>total_amount</th>\n",
              "      <th>subsidy_amount</th>\n",
              "      <th>device_platform</th>\n",
              "      <th>device_type</th>\n",
              "      <th>cluster</th>\n",
              "    </tr>\n",
              "  </thead>\n",
              "  <tbody>\n",
              "    <tr>\n",
              "      <th>0</th>\n",
              "      <td>-0.80914</td>\n",
              "      <td>-0.16552</td>\n",
              "      <td>-0.45992</td>\n",
              "      <td>0.40632</td>\n",
              "      <td>-0.25265</td>\n",
              "      <td>1.34303</td>\n",
              "      <td>-0.26003</td>\n",
              "      <td>4</td>\n",
              "    </tr>\n",
              "    <tr>\n",
              "      <th>1</th>\n",
              "      <td>0.70890</td>\n",
              "      <td>-0.16552</td>\n",
              "      <td>-0.35734</td>\n",
              "      <td>-0.57992</td>\n",
              "      <td>-0.25265</td>\n",
              "      <td>1.34303</td>\n",
              "      <td>-0.26003</td>\n",
              "      <td>4</td>\n",
              "    </tr>\n",
              "    <tr>\n",
              "      <th>2</th>\n",
              "      <td>1.21239</td>\n",
              "      <td>-0.16552</td>\n",
              "      <td>1.13229</td>\n",
              "      <td>-0.57992</td>\n",
              "      <td>-0.25265</td>\n",
              "      <td>1.34303</td>\n",
              "      <td>-0.26003</td>\n",
              "      <td>2</td>\n",
              "    </tr>\n",
              "    <tr>\n",
              "      <th>3</th>\n",
              "      <td>0.45589</td>\n",
              "      <td>-0.16552</td>\n",
              "      <td>-0.62601</td>\n",
              "      <td>-0.57992</td>\n",
              "      <td>-0.25265</td>\n",
              "      <td>-0.74458</td>\n",
              "      <td>-0.26003</td>\n",
              "      <td>0</td>\n",
              "    </tr>\n",
              "    <tr>\n",
              "      <th>4</th>\n",
              "      <td>2.22441</td>\n",
              "      <td>-0.16552</td>\n",
              "      <td>0.27622</td>\n",
              "      <td>-0.57992</td>\n",
              "      <td>-0.25265</td>\n",
              "      <td>1.34303</td>\n",
              "      <td>-0.26003</td>\n",
              "      <td>2</td>\n",
              "    </tr>\n",
              "    <tr>\n",
              "      <th>...</th>\n",
              "      <td>...</td>\n",
              "      <td>...</td>\n",
              "      <td>...</td>\n",
              "      <td>...</td>\n",
              "      <td>...</td>\n",
              "      <td>...</td>\n",
              "      <td>...</td>\n",
              "      <td>...</td>\n",
              "    </tr>\n",
              "    <tr>\n",
              "      <th>295</th>\n",
              "      <td>2.47742</td>\n",
              "      <td>-0.16552</td>\n",
              "      <td>0.27745</td>\n",
              "      <td>-0.57992</td>\n",
              "      <td>-0.25265</td>\n",
              "      <td>-0.74458</td>\n",
              "      <td>-0.26003</td>\n",
              "      <td>2</td>\n",
              "    </tr>\n",
              "    <tr>\n",
              "      <th>296</th>\n",
              "      <td>1.71840</td>\n",
              "      <td>-0.16552</td>\n",
              "      <td>0.08205</td>\n",
              "      <td>5.34941</td>\n",
              "      <td>-0.25265</td>\n",
              "      <td>1.34303</td>\n",
              "      <td>-0.26003</td>\n",
              "      <td>3</td>\n",
              "    </tr>\n",
              "    <tr>\n",
              "      <th>297</th>\n",
              "      <td>1.21239</td>\n",
              "      <td>-0.16552</td>\n",
              "      <td>1.01017</td>\n",
              "      <td>-0.57992</td>\n",
              "      <td>-0.25265</td>\n",
              "      <td>1.34303</td>\n",
              "      <td>-0.26003</td>\n",
              "      <td>2</td>\n",
              "    </tr>\n",
              "    <tr>\n",
              "      <th>298</th>\n",
              "      <td>-0.80914</td>\n",
              "      <td>-0.16552</td>\n",
              "      <td>3.64066</td>\n",
              "      <td>0.40632</td>\n",
              "      <td>-0.25265</td>\n",
              "      <td>1.34303</td>\n",
              "      <td>-0.26003</td>\n",
              "      <td>2</td>\n",
              "    </tr>\n",
              "    <tr>\n",
              "      <th>299</th>\n",
              "      <td>0.45336</td>\n",
              "      <td>-0.16552</td>\n",
              "      <td>-0.39422</td>\n",
              "      <td>-0.57992</td>\n",
              "      <td>-0.25265</td>\n",
              "      <td>1.34303</td>\n",
              "      <td>-0.26003</td>\n",
              "      <td>4</td>\n",
              "    </tr>\n",
              "  </tbody>\n",
              "</table>\n",
              "<p>300 rows × 8 columns</p>\n",
              "</div>\n",
              "      <button class=\"colab-df-convert\" onclick=\"convertToInteractive('df-53db6ff9-7645-4bff-9b12-a8f7b44bda28')\"\n",
              "              title=\"Convert this dataframe to an interactive table.\"\n",
              "              style=\"display:none;\">\n",
              "        \n",
              "  <svg xmlns=\"http://www.w3.org/2000/svg\" height=\"24px\"viewBox=\"0 0 24 24\"\n",
              "       width=\"24px\">\n",
              "    <path d=\"M0 0h24v24H0V0z\" fill=\"none\"/>\n",
              "    <path d=\"M18.56 5.44l.94 2.06.94-2.06 2.06-.94-2.06-.94-.94-2.06-.94 2.06-2.06.94zm-11 1L8.5 8.5l.94-2.06 2.06-.94-2.06-.94L8.5 2.5l-.94 2.06-2.06.94zm10 10l.94 2.06.94-2.06 2.06-.94-2.06-.94-.94-2.06-.94 2.06-2.06.94z\"/><path d=\"M17.41 7.96l-1.37-1.37c-.4-.4-.92-.59-1.43-.59-.52 0-1.04.2-1.43.59L10.3 9.45l-7.72 7.72c-.78.78-.78 2.05 0 2.83L4 21.41c.39.39.9.59 1.41.59.51 0 1.02-.2 1.41-.59l7.78-7.78 2.81-2.81c.8-.78.8-2.07 0-2.86zM5.41 20L4 18.59l7.72-7.72 1.47 1.35L5.41 20z\"/>\n",
              "  </svg>\n",
              "      </button>\n",
              "      \n",
              "  <style>\n",
              "    .colab-df-container {\n",
              "      display:flex;\n",
              "      flex-wrap:wrap;\n",
              "      gap: 12px;\n",
              "    }\n",
              "\n",
              "    .colab-df-convert {\n",
              "      background-color: #E8F0FE;\n",
              "      border: none;\n",
              "      border-radius: 50%;\n",
              "      cursor: pointer;\n",
              "      display: none;\n",
              "      fill: #1967D2;\n",
              "      height: 32px;\n",
              "      padding: 0 0 0 0;\n",
              "      width: 32px;\n",
              "    }\n",
              "\n",
              "    .colab-df-convert:hover {\n",
              "      background-color: #E2EBFA;\n",
              "      box-shadow: 0px 1px 2px rgba(60, 64, 67, 0.3), 0px 1px 3px 1px rgba(60, 64, 67, 0.15);\n",
              "      fill: #174EA6;\n",
              "    }\n",
              "\n",
              "    [theme=dark] .colab-df-convert {\n",
              "      background-color: #3B4455;\n",
              "      fill: #D2E3FC;\n",
              "    }\n",
              "\n",
              "    [theme=dark] .colab-df-convert:hover {\n",
              "      background-color: #434B5C;\n",
              "      box-shadow: 0px 1px 3px 1px rgba(0, 0, 0, 0.15);\n",
              "      filter: drop-shadow(0px 1px 2px rgba(0, 0, 0, 0.3));\n",
              "      fill: #FFFFFF;\n",
              "    }\n",
              "  </style>\n",
              "\n",
              "      <script>\n",
              "        const buttonEl =\n",
              "          document.querySelector('#df-53db6ff9-7645-4bff-9b12-a8f7b44bda28 button.colab-df-convert');\n",
              "        buttonEl.style.display =\n",
              "          google.colab.kernel.accessAllowed ? 'block' : 'none';\n",
              "\n",
              "        async function convertToInteractive(key) {\n",
              "          const element = document.querySelector('#df-53db6ff9-7645-4bff-9b12-a8f7b44bda28');\n",
              "          const dataTable =\n",
              "            await google.colab.kernel.invokeFunction('convertToInteractive',\n",
              "                                                     [key], {});\n",
              "          if (!dataTable) return;\n",
              "\n",
              "          const docLinkHtml = 'Like what you see? Visit the ' +\n",
              "            '<a target=\"_blank\" href=https://colab.research.google.com/notebooks/data_table.ipynb>data table notebook</a>'\n",
              "            + ' to learn more about interactive tables.';\n",
              "          element.innerHTML = '';\n",
              "          dataTable['output_type'] = 'display_data';\n",
              "          await google.colab.output.renderOutput(dataTable, element);\n",
              "          const docLink = document.createElement('div');\n",
              "          docLink.innerHTML = docLinkHtml;\n",
              "          element.appendChild(docLink);\n",
              "        }\n",
              "      </script>\n",
              "    </div>\n",
              "  </div>\n",
              "  "
            ]
          },
          "metadata": {},
          "execution_count": 96
        }
      ]
    },
    {
      "cell_type": "code",
      "source": [
        "#Fazendo a média dos clusters em relação a variável do preço final do pedido\n",
        "cluster.groupby('cluster')['total_amount'].mean()"
      ],
      "metadata": {
        "colab": {
          "base_uri": "https://localhost:8080/"
        },
        "id": "8M4FSMF_mjM7",
        "outputId": "611e340d-3efa-4319-807a-bbc97d89b879"
      },
      "execution_count": null,
      "outputs": [
        {
          "output_type": "execute_result",
          "data": {
            "text/plain": [
              "cluster\n",
              "0   -0.40377\n",
              "1   -0.57992\n",
              "2   -0.31142\n",
              "3    2.03491\n",
              "4    0.19675\n",
              "5   -0.03665\n",
              "Name: total_amount, dtype: float64"
            ]
          },
          "metadata": {},
          "execution_count": 98
        }
      ]
    },
    {
      "cell_type": "markdown",
      "source": [
        "**CONCLUSÃO**\n",
        "\n",
        "Aqui chegamos a conclusão de que os grupos 3 e 4 são mais relevantes para organizarmos possíveis maiores alcances em pedidos mais altos. Vale ressaltar que os grupos de clusters nos dá algumas informações tais como: É importante oferecer um pedido mais alto para restaurantes mais pertos da localidade do cliente, assim como um desconto na taxa de entrega. Não achamos tanta correlação com a variável entrega grátis por um motivo já mencionado acima"
      ],
      "metadata": {
        "id": "IHjUNXiuMo54"
      }
    }
  ]
}